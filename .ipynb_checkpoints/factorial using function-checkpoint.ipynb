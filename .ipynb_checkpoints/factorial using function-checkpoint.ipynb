{
 "cells": [
  {
   "cell_type": "code",
   "execution_count": 5,
   "id": "cbb82332-596a-4575-9fd0-671f17c0b0e6",
   "metadata": {},
   "outputs": [
    {
     "name": "stdout",
     "output_type": "stream",
     "text": [
      "720\n"
     ]
    }
   ],
   "source": [
    "def xyz(a):\n",
    "    factorial = 1\n",
    "    for i in range(1, a + 1):\n",
    "        factorial = factorial * i\n",
    "    return factorial\n",
    "\n",
    "print(xyz(6))"
   ]
  },
  {
   "cell_type": "code",
   "execution_count": null,
   "id": "24971fa6-de27-4478-ae8e-8139a05a9049",
   "metadata": {},
   "outputs": [],
   "source": []
  }
 ],
 "metadata": {
  "kernelspec": {
   "display_name": "Python 3 (ipykernel)",
   "language": "python",
   "name": "python3"
  },
  "language_info": {
   "codemirror_mode": {
    "name": "ipython",
    "version": 3
   },
   "file_extension": ".py",
   "mimetype": "text/x-python",
   "name": "python",
   "nbconvert_exporter": "python",
   "pygments_lexer": "ipython3",
   "version": "3.10.4"
  }
 },
 "nbformat": 4,
 "nbformat_minor": 5
}
