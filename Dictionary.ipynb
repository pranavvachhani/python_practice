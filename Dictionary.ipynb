{
 "cells": [
  {
   "cell_type": "code",
   "execution_count": 1,
   "id": "c75266bc-d5a2-4c64-ab64-82c9078ff9ae",
   "metadata": {},
   "outputs": [
    {
     "name": "stdout",
     "output_type": "stream",
     "text": [
      "{}\n"
     ]
    }
   ],
   "source": [
    "dic = {}\n",
    "print(dic)"
   ]
  },
  {
   "cell_type": "code",
   "execution_count": 2,
   "id": "45311d42-3f24-4ae0-9147-c113d131009f",
   "metadata": {},
   "outputs": [
    {
     "name": "stdout",
     "output_type": "stream",
     "text": [
      "{1: 'focus', 2: 'Academy', 3: 'for', 4: 'carrer', 5: 'enchacement'}\n"
     ]
    }
   ],
   "source": [
    "dic = {1:\"focus\",2:\"Academy\",3:\"for\",4:\"carrer\",5:\"enchacement\"}\n",
    "print(dic)"
   ]
  },
  {
   "cell_type": "code",
   "execution_count": 4,
   "id": "02920709-e2b6-4bc4-9317-e6b2d0e843c2",
   "metadata": {},
   "outputs": [
    {
     "name": "stdout",
     "output_type": "stream",
     "text": [
      "{1: (2, 4, 5), 'NAME': 'FACE', 4: [5, 7]}\n"
     ]
    }
   ],
   "source": [
    "dic = {1:(2,4,5),\"NAME\":\"FACE\",4:[5,7]}\n",
    "print(dic)"
   ]
  },
  {
   "cell_type": "code",
   "execution_count": 6,
   "id": "2f4fa645-621f-4d75-b483-030bff475fc0",
   "metadata": {},
   "outputs": [
    {
     "name": "stdout",
     "output_type": "stream",
     "text": [
      "{1: [2, 4, 5], 'NAME': 'FACE', 4: [5, 7]}\n"
     ]
    }
   ],
   "source": [
    "dic = dict({1:[2,4,5],\"NAME\":\"FACE\",4:[5,7]})\n",
    "print(dic)"
   ]
  },
  {
   "cell_type": "code",
   "execution_count": 10,
   "id": "fcf452f7-1a39-4d48-99c9-1701f89790ee",
   "metadata": {},
   "outputs": [
    {
     "name": "stdout",
     "output_type": "stream",
     "text": [
      "{1: 2, 'NAME': 'FACE', 5: 7}\n"
     ]
    }
   ],
   "source": [
    "dic = dict({(1,2),(\"NAME\",\"FACE\"),(5,7)})\n",
    "print(dic)"
   ]
  },
  {
   "cell_type": "code",
   "execution_count": 11,
   "id": "c4d4aad7-7a9e-4ae3-9e40-78e73ac7aee0",
   "metadata": {},
   "outputs": [
    {
     "name": "stdout",
     "output_type": "stream",
     "text": [
      "{1: 'FACE', 2: 4, 3: {5: 'hello,6:9.5'}}\n"
     ]
    }
   ],
   "source": [
    "dic = {1:\"FACE\",2:4,3:{5:\"hello,6:9.5\"}}\n",
    "print(dic)"
   ]
  },
  {
   "cell_type": "code",
   "execution_count": 12,
   "id": "333c43d7-625e-4281-8f1a-9ed4b11a4f10",
   "metadata": {},
   "outputs": [
    {
     "name": "stdout",
     "output_type": "stream",
     "text": [
      "{0: 'Apple', 1: 'Hard', 2: 'Work'}\n"
     ]
    }
   ],
   "source": [
    "dic={}\n",
    "dic[0] = \"Apple\"\n",
    "dic[1] = \"Hard\"\n",
    "dic[2] = \"Work\"\n",
    "print(dic)\n"
   ]
  },
  {
   "cell_type": "code",
   "execution_count": null,
   "id": "d185d7c3-57d3-4525-954b-454d593c7e20",
   "metadata": {},
   "outputs": [],
   "source": []
  },
  {
   "cell_type": "code",
   "execution_count": null,
   "id": "950498e3-7915-4cfc-aac3-7667e55fad28",
   "metadata": {},
   "outputs": [],
   "source": []
  }
 ],
 "metadata": {
  "kernelspec": {
   "display_name": "Python 3 (ipykernel)",
   "language": "python",
   "name": "python3"
  },
  "language_info": {
   "codemirror_mode": {
    "name": "ipython",
    "version": 3
   },
   "file_extension": ".py",
   "mimetype": "text/x-python",
   "name": "python",
   "nbconvert_exporter": "python",
   "pygments_lexer": "ipython3",
   "version": "3.10.4"
  }
 },
 "nbformat": 4,
 "nbformat_minor": 5
}
