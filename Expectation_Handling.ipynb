{
 "cells": [
  {
   "cell_type": "code",
   "execution_count": 1,
   "id": "22ef6822-9b3f-4538-9622-f16a4e868b3d",
   "metadata": {},
   "outputs": [
    {
     "name": "stdin",
     "output_type": "stream",
     "text": [
      "enter the age: 22\n"
     ]
    },
    {
     "name": "stdout",
     "output_type": "stream",
     "text": [
      "The age is valid :)\n"
     ]
    }
   ],
   "source": [
    "try:\n",
    "    age = int(input(\"enter the age:\"))\n",
    "    if age <= 0:\n",
    "        raise valueError\n",
    "    else:\n",
    "        print(\"The age is valid :)\")\n",
    "except ValueError:\n",
    "    print(\"The age is not valid (:\")"
   ]
  },
  {
   "cell_type": "code",
   "execution_count": 5,
   "id": "779dc33a-0018-4b2f-8c56-615e2d752e8e",
   "metadata": {},
   "outputs": [
    {
     "name": "stdout",
     "output_type": "stream",
     "text": [
      "Zero Divisio Error Occured\n"
     ]
    }
   ],
   "source": [
    "def usage_of_except(a):\n",
    "    if a < 4:\n",
    "        b = a / a\n",
    "    print(\"value of b =\", b)\n",
    "\n",
    "try:\n",
    "    usage_of_except(0)\n",
    "except ZeroDivisionError:\n",
    "    print(\"Zero Divisio Error Occured\")\n",
    "except ZeroDivisionError:\n",
    "    print(\"Name Error Occured\")"
   ]
  },
  {
   "cell_type": "code",
   "execution_count": 6,
   "id": "14fc9099-7018-4547-91b4-5c9cd0bad88d",
   "metadata": {},
   "outputs": [
    {
     "name": "stdout",
     "output_type": "stream",
     "text": [
      "-5.0\n",
      "a/b result in Zero\n"
     ]
    }
   ],
   "source": [
    "def usage_of_else(a,b):\n",
    "    try:\n",
    "        c = ((a+b)/ (a-b))\n",
    "    except ZeroDivisionError:\n",
    "        print(\"a/b result in Zero\")\n",
    "    else:\n",
    "        print(c)\n",
    "usage_of_else(2.0,3.0)\n",
    "usage_of_else(3.0,3.0)"
   ]
  },
  {
   "cell_type": "code",
   "execution_count": 8,
   "id": "1fd5bac4-01c4-4196-a930-ad7b2ed4d527",
   "metadata": {},
   "outputs": [
    {
     "name": "stdin",
     "output_type": "stream",
     "text": [
      " 1618\n"
     ]
    },
    {
     "name": "stdout",
     "output_type": "stream",
     "text": [
      "<class 'str'>\n",
      "1618\n",
      "<class 'int'>\n"
     ]
    }
   ],
   "source": [
    "def temp_convert(var):\n",
    "    try:\n",
    "        print(type(var))\n",
    "        return int(var)\n",
    "    except valueError as Argument:\n",
    "        print(\"Invalid number\", Argument)\n",
    "n = temp_convert(input());\n",
    "print(n)\n",
    "print(type(n))"
   ]
  },
  {
   "cell_type": "code",
   "execution_count": null,
   "id": "70b6392a-89d6-447d-9184-d1fb4671e1ca",
   "metadata": {},
   "outputs": [],
   "source": []
  }
 ],
 "metadata": {
  "kernelspec": {
   "display_name": "Python 3 (ipykernel)",
   "language": "python",
   "name": "python3"
  },
  "language_info": {
   "codemirror_mode": {
    "name": "ipython",
    "version": 3
   },
   "file_extension": ".py",
   "mimetype": "text/x-python",
   "name": "python",
   "nbconvert_exporter": "python",
   "pygments_lexer": "ipython3",
   "version": "3.12.6"
  }
 },
 "nbformat": 4,
 "nbformat_minor": 5
}
