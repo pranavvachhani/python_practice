{
 "cells": [
  {
   "cell_type": "code",
   "execution_count": 1,
   "id": "88b58b87-b1c3-4ff0-ac87-1e2255ce62e8",
   "metadata": {},
   "outputs": [
    {
     "name": "stdout",
     "output_type": "stream",
     "text": [
      "[10, 20, 30, 40, 50]\n"
     ]
    }
   ],
   "source": [
    "#simple list\n",
    "x = [10, 20, 30, 40, 50]\n",
    "\n",
    "\n",
    "print(x)\n"
   ]
  },
  {
   "cell_type": "code",
   "execution_count": 2,
   "id": "5f84347f-011a-4603-b9d7-ead6bed563b9",
   "metadata": {},
   "outputs": [
    {
     "name": "stdout",
     "output_type": "stream",
     "text": [
      "['apple', 'banana', 'cherry', 'date']\n"
     ]
    }
   ],
   "source": [
    "#string list\n",
    "x = [\"apple\", \"banana\", \"cherry\", \"date\"]\n",
    "\n",
    "\n",
    "print(x)"
   ]
  },
  {
   "cell_type": "code",
   "execution_count": 3,
   "id": "8c3aa5b8-d95f-4d18-8dbd-709a3c24f979",
   "metadata": {},
   "outputs": [
    {
     "name": "stdout",
     "output_type": "stream",
     "text": [
      "[10.5, 20.5, 30.5, 40.5, 50.5]\n"
     ]
    }
   ],
   "source": [
    "#float list\n",
    "x = [10.5, 20.5, 30.5, 40.5, 50.5]\n",
    "\n",
    "\n",
    "print(x)"
   ]
  },
  {
   "cell_type": "code",
   "execution_count": 4,
   "id": "bfb40839-180c-45cf-9f64-909086888944",
   "metadata": {},
   "outputs": [
    {
     "name": "stdout",
     "output_type": "stream",
     "text": [
      "[10, 'apple', 3.14, True, [1, 2, 3]]\n"
     ]
    }
   ],
   "source": [
    "#combination list \n",
    "x = [10, \"apple\", 3.14, True, [1, 2, 3]]\n",
    "\n",
    "\n",
    "print(x)\n"
   ]
  },
  {
   "cell_type": "code",
   "execution_count": 5,
   "id": "cde8fa61-ace6-4111-806c-3938475236f3",
   "metadata": {},
   "outputs": [
    {
     "name": "stdout",
     "output_type": "stream",
     "text": [
      "[[1, 2, 3], ['apple', 'banana'], [True, False, True]]\n"
     ]
    }
   ],
   "source": [
    "#list within list \n",
    "x = [[1, 2, 3], [\"apple\", \"banana\"], [True, False, True]]\n",
    "\n",
    "\n",
    "print(x)\n"
   ]
  },
  {
   "cell_type": "code",
   "execution_count": 1,
   "id": "02c72194-3ca4-4c01-ad28-0c1707f1bd6d",
   "metadata": {},
   "outputs": [
    {
     "name": "stdout",
     "output_type": "stream",
     "text": [
      "['a', 'b', 'c', 'd', 'e']\n"
     ]
    }
   ],
   "source": [
    "#combination list \n",
    "x = ['a','b','c','d','e']\n",
    "\n",
    "print(x)\n"
   ]
  },
  {
   "cell_type": "code",
   "execution_count": 1,
   "id": "587f6c30-a545-46fa-bc23-1f9d4297f884",
   "metadata": {},
   "outputs": [
    {
     "name": "stdout",
     "output_type": "stream",
     "text": [
      "<class 'float'>\n",
      "10 <class 'int'>\n"
     ]
    }
   ],
   "source": [
    "#int conversation\n",
    "a = 10.67\n",
    "print(type(a))  \n",
    "\n",
    "b = int(a) \n",
    "print(b, type(b))"
   ]
  },
  {
   "cell_type": "code",
   "execution_count": 5,
   "id": "a2c22602-69d9-42b8-9c89-89eb673c2306",
   "metadata": {},
   "outputs": [
    {
     "name": "stdout",
     "output_type": "stream",
     "text": [
      "(17.56+20j)\n",
      "17\n",
      "20\n"
     ]
    }
   ],
   "source": [
    "#complex to int \n",
    "x = 17.56 + 20j\n",
    "y = int(x.real)\n",
    "z = int(x.imag)\n",
    "print (x)\n",
    "print (y)\n",
    "print (z)"
   ]
  },
  {
   "cell_type": "code",
   "execution_count": 7,
   "id": "e85bd54a-e436-4e40-8c07-c9a00f6c5bee",
   "metadata": {},
   "outputs": [
    {
     "name": "stdout",
     "output_type": "stream",
     "text": [
      "100 <class 'int'>\n"
     ]
    }
   ],
   "source": [
    "# string to integer\n",
    "x = \"100\"\n",
    "t = int(x)\n",
    "print (t, type(t))"
   ]
  },
  {
   "cell_type": "code",
   "execution_count": 10,
   "id": "19734b82-2f2a-4eb8-91e3-0910dc1da2f7",
   "metadata": {},
   "outputs": [
    {
     "name": "stdout",
     "output_type": "stream",
     "text": [
      "1 <class 'int'>\n"
     ]
    }
   ],
   "source": [
    "#boolean to int \n",
    "x = True\n",
    "y = int(x)\n",
    "print(y, type(y))"
   ]
  },
  {
   "cell_type": "code",
   "execution_count": 11,
   "id": "2612b7a3-1e82-44ae-92b5-1482bd7214d1",
   "metadata": {},
   "outputs": [
    {
     "name": "stdout",
     "output_type": "stream",
     "text": [
      "1.0 <class 'float'>\n"
     ]
    }
   ],
   "source": [
    "#boolean to float\n",
    "x = True\n",
    "y = float(x)\n",
    "print(y, type(y))"
   ]
  },
  {
   "cell_type": "code",
   "execution_count": 15,
   "id": "a9fe9b7d-a1ec-49a9-9849-f6936ff91247",
   "metadata": {},
   "outputs": [
    {
     "name": "stdout",
     "output_type": "stream",
     "text": [
      "(2+0j)\n",
      "(20.25+0j)\n",
      "(1+0j)\n",
      "(16+0j)\n",
      "0j\n"
     ]
    }
   ],
   "source": [
    "#only complex conversation\n",
    "print(complex(2))\n",
    "print(complex(20.25))\n",
    "print(complex(True))\n",
    "print(complex(\"16\"))\n",
    "print(complex(False))"
   ]
  },
  {
   "cell_type": "code",
   "execution_count": 16,
   "id": "31be1a98-df07-4a57-a020-525af3f3ef2b",
   "metadata": {},
   "outputs": [
    {
     "name": "stdout",
     "output_type": "stream",
     "text": [
      "34\n",
      "34.25\n",
      "(45+3j)\n",
      "True\n",
      "False\n"
     ]
    }
   ],
   "source": [
    "#only string conversation\n",
    "print(str(34))\n",
    "print(str(34.25))\n",
    "print(str(45+3j))\n",
    "print(str(True))\n",
    "print(str(False))"
   ]
  },
  {
   "cell_type": "code",
   "execution_count": null,
   "id": "1c78ea79-c01d-4ce6-ad4d-8300bb9e9272",
   "metadata": {},
   "outputs": [],
   "source": []
  }
 ],
 "metadata": {
  "kernelspec": {
   "display_name": "Python 3 (ipykernel)",
   "language": "python",
   "name": "python3"
  },
  "language_info": {
   "codemirror_mode": {
    "name": "ipython",
    "version": 3
   },
   "file_extension": ".py",
   "mimetype": "text/x-python",
   "name": "python",
   "nbconvert_exporter": "python",
   "pygments_lexer": "ipython3",
   "version": "3.10.4"
  }
 },
 "nbformat": 4,
 "nbformat_minor": 5
}
