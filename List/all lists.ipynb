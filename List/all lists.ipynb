{
 "cells": [
  {
   "cell_type": "code",
   "execution_count": 1,
   "id": "88b58b87-b1c3-4ff0-ac87-1e2255ce62e8",
   "metadata": {},
   "outputs": [
    {
     "name": "stdout",
     "output_type": "stream",
     "text": [
      "[10, 20, 30, 40, 50]\n"
     ]
    }
   ],
   "source": [
    "#simple list\n",
    "x = [10, 20, 30, 40, 50]\n",
    "\n",
    "\n",
    "print(x)\n"
   ]
  },
  {
   "cell_type": "code",
   "execution_count": 2,
   "id": "5f84347f-011a-4603-b9d7-ead6bed563b9",
   "metadata": {},
   "outputs": [
    {
     "name": "stdout",
     "output_type": "stream",
     "text": [
      "['apple', 'banana', 'cherry', 'date']\n"
     ]
    }
   ],
   "source": [
    "#string list\n",
    "x = [\"apple\", \"banana\", \"cherry\", \"date\"]\n",
    "\n",
    "\n",
    "print(x)"
   ]
  },
  {
   "cell_type": "code",
   "execution_count": 3,
   "id": "8c3aa5b8-d95f-4d18-8dbd-709a3c24f979",
   "metadata": {},
   "outputs": [
    {
     "name": "stdout",
     "output_type": "stream",
     "text": [
      "[10.5, 20.5, 30.5, 40.5, 50.5]\n"
     ]
    }
   ],
   "source": [
    "#float list\n",
    "x = [10.5, 20.5, 30.5, 40.5, 50.5]\n",
    "\n",
    "\n",
    "print(x)"
   ]
  },
  {
   "cell_type": "code",
   "execution_count": 4,
   "id": "bfb40839-180c-45cf-9f64-909086888944",
   "metadata": {},
   "outputs": [
    {
     "name": "stdout",
     "output_type": "stream",
     "text": [
      "[10, 'apple', 3.14, True, [1, 2, 3]]\n"
     ]
    }
   ],
   "source": [
    "#combination list \n",
    "x = [10, \"apple\", 3.14, True, [1, 2, 3]]\n",
    "\n",
    "\n",
    "print(x)\n"
   ]
  },
  {
   "cell_type": "code",
   "execution_count": 5,
   "id": "cde8fa61-ace6-4111-806c-3938475236f3",
   "metadata": {},
   "outputs": [
    {
     "name": "stdout",
     "output_type": "stream",
     "text": [
      "[[1, 2, 3], ['apple', 'banana'], [True, False, True]]\n"
     ]
    }
   ],
   "source": [
    "#list within list \n",
    "x = [[1, 2, 3], [\"apple\", \"banana\"], [True, False, True]]\n",
    "\n",
    "\n",
    "print(x)\n"
   ]
  },
  {
   "cell_type": "code",
   "execution_count": 6,
   "id": "02c72194-3ca4-4c01-ad28-0c1707f1bd6d",
   "metadata": {},
   "outputs": [
    {
     "name": "stdout",
     "output_type": "stream",
     "text": [
      "['a', 'b', 'c', 'd', 'e']\n"
     ]
    }
   ],
   "source": [
    "#combination list \n",
    "x = ['a','b','c','d','e']\n",
    "\n",
    "print(x)\n"
   ]
  },
  {
   "cell_type": "code",
   "execution_count": 7,
   "id": "587f6c30-a545-46fa-bc23-1f9d4297f884",
   "metadata": {},
   "outputs": [
    {
     "name": "stdout",
     "output_type": "stream",
     "text": [
      "<class 'float'>\n",
      "10 <class 'int'>\n"
     ]
    }
   ],
   "source": [
    "#int conversation\n",
    "a = 10.67\n",
    "print(type(a))  \n",
    "\n",
    "b = int(a) \n",
    "print(b, type(b))"
   ]
  },
  {
   "cell_type": "code",
   "execution_count": 8,
   "id": "a2c22602-69d9-42b8-9c89-89eb673c2306",
   "metadata": {},
   "outputs": [
    {
     "name": "stdout",
     "output_type": "stream",
     "text": [
      "(17.56+20j)\n",
      "17\n",
      "20\n"
     ]
    }
   ],
   "source": [
    "#complex to int \n",
    "x = 17.56 + 20j\n",
    "y = int(x.real)\n",
    "z = int(x.imag)\n",
    "print (x)\n",
    "print (y)\n",
    "print (z)"
   ]
  },
  {
   "cell_type": "code",
   "execution_count": 9,
   "id": "e85bd54a-e436-4e40-8c07-c9a00f6c5bee",
   "metadata": {},
   "outputs": [
    {
     "name": "stdout",
     "output_type": "stream",
     "text": [
      "100 <class 'int'>\n"
     ]
    }
   ],
   "source": [
    "# string to integer\n",
    "x = \"100\"\n",
    "t = int(x)\n",
    "print (t, type(t))"
   ]
  },
  {
   "cell_type": "code",
   "execution_count": 10,
   "id": "19734b82-2f2a-4eb8-91e3-0910dc1da2f7",
   "metadata": {},
   "outputs": [
    {
     "name": "stdout",
     "output_type": "stream",
     "text": [
      "1 <class 'int'>\n"
     ]
    }
   ],
   "source": [
    "#boolean to int \n",
    "x = True\n",
    "y = int(x)\n",
    "print(y, type(y))"
   ]
  },
  {
   "cell_type": "code",
   "execution_count": 11,
   "id": "2612b7a3-1e82-44ae-92b5-1482bd7214d1",
   "metadata": {},
   "outputs": [
    {
     "name": "stdout",
     "output_type": "stream",
     "text": [
      "1.0 <class 'float'>\n"
     ]
    }
   ],
   "source": [
    "#boolean to float\n",
    "x = True\n",
    "y = float(x)\n",
    "print(y, type(y))"
   ]
  },
  {
   "cell_type": "code",
   "execution_count": 12,
   "id": "a9fe9b7d-a1ec-49a9-9849-f6936ff91247",
   "metadata": {},
   "outputs": [
    {
     "name": "stdout",
     "output_type": "stream",
     "text": [
      "(2+0j)\n",
      "(20.25+0j)\n",
      "(1+0j)\n",
      "(16+0j)\n",
      "0j\n"
     ]
    }
   ],
   "source": [
    "#only complex conversation\n",
    "print(complex(2))\n",
    "print(complex(20.25))\n",
    "print(complex(True))\n",
    "print(complex(\"16\"))\n",
    "print(complex(False))"
   ]
  },
  {
   "cell_type": "code",
   "execution_count": 13,
   "id": "31be1a98-df07-4a57-a020-525af3f3ef2b",
   "metadata": {},
   "outputs": [
    {
     "name": "stdout",
     "output_type": "stream",
     "text": [
      "34\n",
      "34.25\n",
      "(45+3j)\n",
      "True\n",
      "False\n"
     ]
    }
   ],
   "source": [
    "#only string conversation\n",
    "print(str(34))\n",
    "print(str(34.25))\n",
    "print(str(45+3j))\n",
    "print(str(True))\n",
    "print(str(False))"
   ]
  },
  {
   "cell_type": "code",
   "execution_count": 14,
   "id": "1c78ea79-c01d-4ce6-ad4d-8300bb9e9272",
   "metadata": {},
   "outputs": [
    {
     "name": "stdout",
     "output_type": "stream",
     "text": [
      "123 <class 'str'>\n"
     ]
    }
   ],
   "source": [
    "x=123\n",
    "s=str(x)\n",
    "print(s,type(s))"
   ]
  },
  {
   "cell_type": "code",
   "execution_count": 15,
   "id": "66bf31ce-08bc-4957-ab67-1c53663d2069",
   "metadata": {},
   "outputs": [
    {
     "name": "stdout",
     "output_type": "stream",
     "text": [
      "1 2 3 4 5 6 "
     ]
    }
   ],
   "source": [
    "x=[1,2,3,4,5,6]\n",
    "i=0\n",
    "while i<len(x):\n",
    "    print(x[i],end=\" \")\n",
    "    i+=1"
   ]
  },
  {
   "cell_type": "code",
   "execution_count": 16,
   "id": "f909f709-3b7c-4dcb-8f42-36a0e1947152",
   "metadata": {},
   "outputs": [
    {
     "name": "stdout",
     "output_type": "stream",
     "text": [
      "value found\n"
     ]
    }
   ],
   "source": [
    "a=[10,20,30,40,50]\n",
    "for i in a:\n",
    "    if i==30:\n",
    "        print(\"value found\")\n",
    "        break\n",
    "else:\n",
    "    print(\"value not found\")"
   ]
  },
  {
   "cell_type": "code",
   "execution_count": 17,
   "id": "b432b7c8-8682-436b-954f-2cd6146b8bce",
   "metadata": {},
   "outputs": [
    {
     "name": "stdout",
     "output_type": "stream",
     "text": [
      "True\n"
     ]
    }
   ],
   "source": [
    "a=[10,20,30]\n",
    "print(30 in a)"
   ]
  },
  {
   "cell_type": "code",
   "execution_count": 18,
   "id": "bb75a74b-c2a1-4c1f-938c-95f3d80bcfab",
   "metadata": {},
   "outputs": [
    {
     "data": {
      "text/plain": [
       "2"
      ]
     },
     "execution_count": 18,
     "metadata": {},
     "output_type": "execute_result"
    }
   ],
   "source": [
    "a.index(30)"
   ]
  },
  {
   "cell_type": "code",
   "execution_count": 19,
   "id": "c0b71c28-4cf0-42f6-b233-1c0e172471ea",
   "metadata": {},
   "outputs": [
    {
     "name": "stdout",
     "output_type": "stream",
     "text": [
      "2\n"
     ]
    }
   ],
   "source": [
    "for i in range(len(a)):\n",
    "    if a[i]==30:\n",
    "        print(i)\n",
    "        break"
   ]
  },
  {
   "cell_type": "code",
   "execution_count": 20,
   "id": "bc9f7909-fa9a-4b89-941c-8d5e13bda9cf",
   "metadata": {},
   "outputs": [
    {
     "data": {
      "text/plain": [
       "11"
      ]
     },
     "execution_count": 20,
     "metadata": {},
     "output_type": "execute_result"
    }
   ],
   "source": [
    "li=[10,20,30,40,50,60,70,80,90,100,150]\n",
    "len(li)"
   ]
  },
  {
   "cell_type": "code",
   "execution_count": 21,
   "id": "2010c809-edd2-438d-9423-7f65f3a419d2",
   "metadata": {},
   "outputs": [
    {
     "data": {
      "text/plain": [
       "80"
      ]
     },
     "execution_count": 21,
     "metadata": {},
     "output_type": "execute_result"
    }
   ],
   "source": [
    "li[len(li)-4]"
   ]
  },
  {
   "cell_type": "code",
   "execution_count": 22,
   "id": "4710cdaf-bf7f-40b9-b11e-8f8d9df4fdd2",
   "metadata": {},
   "outputs": [
    {
     "data": {
      "text/plain": [
       "10"
      ]
     },
     "execution_count": 22,
     "metadata": {},
     "output_type": "execute_result"
    }
   ],
   "source": [
    "li[-len(li)]"
   ]
  },
  {
   "cell_type": "code",
   "execution_count": 23,
   "id": "6a616330-1e68-498a-b909-46366726549f",
   "metadata": {},
   "outputs": [
    {
     "name": "stdout",
     "output_type": "stream",
     "text": [
      "[1, 'ABC', 84.9, 'a']\n"
     ]
    }
   ],
   "source": [
    "information = [1,\"ABC\",84.9,'a']\n",
    "print(information)"
   ]
  },
  {
   "cell_type": "code",
   "execution_count": 24,
   "id": "6901e434-81c3-48a5-9238-5cb92505f110",
   "metadata": {},
   "outputs": [
    {
     "data": {
      "text/plain": [
       "[1, 'ABC', 16.4, '18', 'B', 'Y', 'E']"
      ]
     },
     "execution_count": 24,
     "metadata": {},
     "output_type": "execute_result"
    }
   ],
   "source": [
    "info=[1,\"ABC\",16.4,'18']\n",
    "st=(\"BYE\")\n",
    "info.extend(st)\n",
    "info"
   ]
  },
  {
   "cell_type": "code",
   "execution_count": 25,
   "id": "e55cd286-6f65-4cac-995e-611232f79f8b",
   "metadata": {},
   "outputs": [
    {
     "data": {
      "text/plain": [
       "[1, 'ABC', 16.4, '18', 'B', 'Y', 'E', 'H', 'E', 'L', 'L', 'O']"
      ]
     },
     "execution_count": 25,
     "metadata": {},
     "output_type": "execute_result"
    }
   ],
   "source": [
    "info+=\"HELLO\"\n",
    "info"
   ]
  },
  {
   "cell_type": "code",
   "execution_count": 26,
   "id": "1f2e9410-0fdb-4ba4-8a52-b2cdfa484e30",
   "metadata": {},
   "outputs": [
    {
     "data": {
      "text/plain": [
       "[1,\n",
       " 'ABC',\n",
       " 16.4,\n",
       " '18',\n",
       " 'B',\n",
       " 'Y',\n",
       " 'E',\n",
       " 'H',\n",
       " 'E',\n",
       " 'L',\n",
       " 'L',\n",
       " 'O',\n",
       " 1,\n",
       " 'ABC',\n",
       " 16.4,\n",
       " '18',\n",
       " 'B',\n",
       " 'Y',\n",
       " 'E',\n",
       " 'H',\n",
       " 'E',\n",
       " 'L',\n",
       " 'L',\n",
       " 'O']"
      ]
     },
     "execution_count": 26,
     "metadata": {},
     "output_type": "execute_result"
    }
   ],
   "source": [
    "info*=2\n",
    "info"
   ]
  },
  {
   "cell_type": "code",
   "execution_count": 27,
   "id": "ad5cbb9f-979d-40a5-a301-dae5088d7783",
   "metadata": {},
   "outputs": [
    {
     "name": "stdout",
     "output_type": "stream",
     "text": [
      "[1, 'XYZ', 16.4, '18', 'B', 'Y', 'E', 'H', 'E', 'L', 'L', 'O', 1, 'ABC', 16.4, '18', 'B', 'Y', 'E', 'H', 'E', 'L', 'L', 'O']\n"
     ]
    }
   ],
   "source": [
    "info[1]=\"XYZ\"\n",
    "print(info)\n"
   ]
  },
  {
   "cell_type": "code",
   "execution_count": 28,
   "id": "d16e72f6-3ba0-49be-8b6b-17bbd3fb7775",
   "metadata": {},
   "outputs": [
    {
     "data": {
      "text/plain": [
       "[1, 'XYZ', 16.4]"
      ]
     },
     "execution_count": 28,
     "metadata": {},
     "output_type": "execute_result"
    }
   ],
   "source": [
    "info[0:3]"
   ]
  },
  {
   "cell_type": "code",
   "execution_count": 29,
   "id": "30ccb326-b441-4a00-869a-40e179b6ed25",
   "metadata": {},
   "outputs": [
    {
     "data": {
      "text/plain": [
       "[]"
      ]
     },
     "execution_count": 29,
     "metadata": {},
     "output_type": "execute_result"
    }
   ],
   "source": [
    "info[:0]"
   ]
  },
  {
   "cell_type": "code",
   "execution_count": 30,
   "id": "8fb8dd0a-145b-445a-9943-9c08ba8f3e96",
   "metadata": {},
   "outputs": [
    {
     "data": {
      "text/plain": [
       "[1]"
      ]
     },
     "execution_count": 30,
     "metadata": {},
     "output_type": "execute_result"
    }
   ],
   "source": [
    "info[:1]"
   ]
  },
  {
   "cell_type": "code",
   "execution_count": 31,
   "id": "690b928a-4da1-4195-8694-8d9a02f84120",
   "metadata": {},
   "outputs": [
    {
     "data": {
      "text/plain": [
       "[1,\n",
       " 'XYZ',\n",
       " 16.4,\n",
       " '18',\n",
       " 'B',\n",
       " 'Y',\n",
       " 'E',\n",
       " 'H',\n",
       " 'E',\n",
       " 'L',\n",
       " 'L',\n",
       " 'O',\n",
       " 1,\n",
       " 'ABC',\n",
       " 16.4,\n",
       " '18',\n",
       " 'B',\n",
       " 'Y',\n",
       " 'E',\n",
       " 'H']"
      ]
     },
     "execution_count": 31,
     "metadata": {},
     "output_type": "execute_result"
    }
   ],
   "source": [
    "info[:20]"
   ]
  },
  {
   "cell_type": "code",
   "execution_count": 32,
   "id": "5ac320f7-99d3-4cee-b1a4-e8df18fc98ef",
   "metadata": {},
   "outputs": [
    {
     "name": "stdout",
     "output_type": "stream",
     "text": [
      "['6354047096', 8.58]\n"
     ]
    }
   ],
   "source": [
    "student=[s,\"STU\",8.58,\"female\",\"India\",\"6354047096\"]\n",
    "print(student[-1::-3])"
   ]
  },
  {
   "cell_type": "code",
   "execution_count": 33,
   "id": "eb1e4f0f-c9b2-4619-a0c6-99fc121a9f4c",
   "metadata": {},
   "outputs": [
    {
     "name": "stdout",
     "output_type": "stream",
     "text": [
      "['123', 8.58, 'India']\n"
     ]
    }
   ],
   "source": [
    "print(student[::2])"
   ]
  },
  {
   "cell_type": "code",
   "execution_count": 34,
   "id": "e9ffa0dd-b348-46af-9ba8-302ebb25d635",
   "metadata": {},
   "outputs": [
    {
     "name": "stdin",
     "output_type": "stream",
     "text": [
      " 16\n"
     ]
    },
    {
     "name": "stdout",
     "output_type": "stream",
     "text": [
      "[16, 16, 16, 16, 16, 16, 16, 16, 16, 16, 16, 16, 16, 16, 16, 16, 16, 16, 16, 16, 16, 16, 16, 16, 16, 16, 16, 16, 16, 16, 16, 16, 16, 16, 16, 16, 16, 16, 16, 16, 16, 16, 16, 16, 16, 16, 16, 16, 16, 16, 16, 16, 16, 16, 16, 16, 16, 16, 16, 16, 16, 16, 16, 16, 16, 16, 16, 16, 16, 16, 16, 16, 16, 16, 16, 16, 16, 16, 16, 16, 16, 16, 16, 16, 16, 16, 16, 16, 16, 16, 16, 16, 16, 16, 16, 16, 16, 16, 16, 16, 16]\n"
     ]
    }
   ],
   "source": [
    "a=int(input())\n",
    "li=[]\n",
    "for i in range(100+1):\n",
    "    li.append(a)\n",
    "print(li)"
   ]
  },
  {
   "cell_type": "code",
   "execution_count": 35,
   "id": "a8f5cdcf-75e7-4de3-bc4f-0b6fa323c7f5",
   "metadata": {},
   "outputs": [
    {
     "name": "stdout",
     "output_type": "stream",
     "text": [
      "1\n",
      "3\n",
      "5\n",
      "7\n",
      "9\n",
      "11\n",
      "13\n",
      "15\n",
      "17\n",
      "19\n",
      "21\n"
     ]
    }
   ],
   "source": [
    "for i in range(1,22,2):\n",
    "    print(i)"
   ]
  },
  {
   "cell_type": "code",
   "execution_count": 36,
   "id": "c5a684d7-8c60-4e53-bf63-5c39ce29df48",
   "metadata": {},
   "outputs": [
    {
     "name": "stdout",
     "output_type": "stream",
     "text": [
      "[1, 3, 5, 7, 9]\n"
     ]
    }
   ],
   "source": [
    "a = [1,2,3,4,5,6,7,8,9,10]\n",
    "a_odd=a[::2]\n",
    "print(a_odd)"
   ]
  },
  {
   "cell_type": "code",
   "execution_count": 37,
   "id": "ccb24908-9823-4a5e-9db8-09880526fa66",
   "metadata": {},
   "outputs": [
    {
     "name": "stdout",
     "output_type": "stream",
     "text": [
      "[2, 4, 6, 8, 10]\n"
     ]
    }
   ],
   "source": [
    "a = [1,2,3,4,5,6,7,8,9,10]\n",
    "a_even=a[1:len(a)+1:2]\n",
    "print(a_even)"
   ]
  },
  {
   "cell_type": "code",
   "execution_count": 38,
   "id": "55cc0236-4642-469b-9e80-7bd383e2707e",
   "metadata": {},
   "outputs": [
    {
     "name": "stdin",
     "output_type": "stream",
     "text": [
      "Enter your choice: 10\n"
     ]
    },
    {
     "name": "stdout",
     "output_type": "stream",
     "text": [
      "['1', '0']\n"
     ]
    }
   ],
   "source": [
    "a =(input(\"Enter your choice:\"))\n",
    "x=[]\n",
    "for i in a:\n",
    "    x.append(i)\n",
    "print(x)"
   ]
  },
  {
   "cell_type": "code",
   "execution_count": 39,
   "id": "cad93b35-5e64-4d05-b78b-b68b202522ec",
   "metadata": {},
   "outputs": [
    {
     "name": "stdin",
     "output_type": "stream",
     "text": [
      " 12\n"
     ]
    },
    {
     "name": "stdout",
     "output_type": "stream",
     "text": [
      "['1', '2']\n"
     ]
    }
   ],
   "source": [
    "string=input()\n",
    "l2=[]\n",
    "l2+=string\n",
    "print(l2)"
   ]
  },
  {
   "cell_type": "code",
   "execution_count": 40,
   "id": "516d1aa5-c206-411d-ab3a-9d91a0259f27",
   "metadata": {},
   "outputs": [
    {
     "name": "stdin",
     "output_type": "stream",
     "text": [
      " 12\n"
     ]
    },
    {
     "name": "stdout",
     "output_type": "stream",
     "text": [
      "2\n"
     ]
    }
   ],
   "source": [
    "x = list(input())\n",
    "y = max(x)\n",
    "print(y)"
   ]
  },
  {
   "cell_type": "code",
   "execution_count": 44,
   "id": "5862f227-9fa2-46b0-a622-b7308249a027",
   "metadata": {},
   "outputs": [
    {
     "name": "stdin",
     "output_type": "stream",
     "text": [
      "Enter numbers separated by space:  10 20 45\n"
     ]
    },
    {
     "name": "stdout",
     "output_type": "stream",
     "text": [
      "the sum of the numbers is: 75\n"
     ]
    }
   ],
   "source": [
    "a = list(map(int, input(\"Enter numbers separated by space: \").split()))\n",
    "print(\"the sum of the numbers is:\", sum(a))"
   ]
  },
  {
   "cell_type": "code",
   "execution_count": 45,
   "id": "774ea7a5-228c-47ea-91fe-c8311b0c0e8f",
   "metadata": {},
   "outputs": [
    {
     "name": "stdin",
     "output_type": "stream",
     "text": [
      "Enter numbers separated by space:  1 7 2 5 -1\n"
     ]
    },
    {
     "name": "stdout",
     "output_type": "stream",
     "text": [
      "the sum of the numbers is: 7\n"
     ]
    }
   ],
   "source": [
    "a = list(map(int, input(\"Enter numbers separated by space: \").split()))\n",
    "print(\"the sum of the numbers is:\", max(a))"
   ]
  },
  {
   "cell_type": "code",
   "execution_count": 51,
   "id": "7d3743b5-beee-4b88-a404-11020854a62a",
   "metadata": {},
   "outputs": [
    {
     "name": "stdin",
     "output_type": "stream",
     "text": [
      "Enter your choice: 3 2 3 780 90\n"
     ]
    },
    {
     "name": "stdout",
     "output_type": "stream",
     "text": [
      "the number of distinct element is: 4\n"
     ]
    }
   ],
   "source": [
    "a = list(map(int, input(\"Enter your choice:\").split()))\n",
    "\n",
    "distinct_count = len(set(a))\n",
    "\n",
    "print(\"the number of distinct element is:\",distinct_count)"
   ]
  },
  {
   "cell_type": "code",
   "execution_count": 9,
   "id": "f3d64a14-d908-4db4-a34c-4c57f30110da",
   "metadata": {},
   "outputs": [
    {
     "name": "stdin",
     "output_type": "stream",
     "text": [
      "enter the size of element: 3\n",
      " 1\n",
      " 2\n",
      " 3\n"
     ]
    },
    {
     "name": "stdout",
     "output_type": "stream",
     "text": [
      "[1, 2, 3]\n"
     ]
    },
    {
     "name": "stdin",
     "output_type": "stream",
     "text": [
      "enter the size of element: 4\n",
      " 1\n",
      " 2\n",
      " 3\n",
      " 4\n"
     ]
    },
    {
     "name": "stdout",
     "output_type": "stream",
     "text": [
      "[1, 2, 3, 4]\n"
     ]
    }
   ],
   "source": [
    "a=int(input(\"enter the size of element:\"))\n",
    "list_1=[]\n",
    "for i in range(a):\n",
    "    list_1.append(int(input()))\n",
    "print(list_1)\n",
    "b = int(input(\"enter the size of element:\"))\n",
    "list_2=[]\n",
    "for i in range(b):\n",
    "    list_2.append(int(input()))\n",
    "print(list_2)"
   ]
  },
  {
   "cell_type": "code",
   "execution_count": 13,
   "id": "9f5b4b61-78dd-4807-aee6-dad2a7b54de5",
   "metadata": {},
   "outputs": [
    {
     "name": "stdin",
     "output_type": "stream",
     "text": [
      " 4\n",
      " 5 6 7 8 9 10\n"
     ]
    },
    {
     "name": "stdout",
     "output_type": "stream",
     "text": [
      "10\n"
     ]
    }
   ],
   "source": [
    "a=int(input())\n",
    "b=list(map(int,input().split()))\n",
    "print(max(b))"
   ]
  },
  {
   "cell_type": "code",
   "execution_count": 12,
   "id": "70f2481b-6e0d-4d5c-a783-0696bc24930d",
   "metadata": {},
   "outputs": [
    {
     "ename": "SyntaxError",
     "evalue": "incomplete input (353548895.py, line 4)",
     "output_type": "error",
     "traceback": [
      "\u001b[1;36m  Cell \u001b[1;32mIn[12], line 4\u001b[1;36m\u001b[0m\n\u001b[1;33m    print(max(b[-2])\u001b[0m\n\u001b[1;37m                    ^\u001b[0m\n\u001b[1;31mSyntaxError\u001b[0m\u001b[1;31m:\u001b[0m incomplete input\n"
     ]
    }
   ],
   "source": [
    "a=int(input())\n",
    "b=list(map(int,input().split()))\n",
    "b.sort()\n",
    "print(max(b[-2])"
   ]
  },
  {
   "cell_type": "code",
   "execution_count": 14,
   "id": "4f11a1b9-1647-4b4b-b410-96352fa57a08",
   "metadata": {},
   "outputs": [
    {
     "name": "stdout",
     "output_type": "stream",
     "text": [
      "original_value [1, 2, 3, 4, 5, 6, 7, 8, 9, 10]\n",
      "even_value [2, 4, 6, 8, 10]\n"
     ]
    }
   ],
   "source": [
    "original_list=list(range(1,11))\n",
    "even_list=[num for num in original_list if num % 2 == 0]\n",
    "\n",
    "print(\"original_value\",original_list)\n",
    "print(\"even_value\",even_list)"
   ]
  },
  {
   "cell_type": "code",
   "execution_count": 17,
   "id": "77f6c6ff-cce4-42e6-a68a-8b67d52c506d",
   "metadata": {},
   "outputs": [
    {
     "name": "stdout",
     "output_type": "stream",
     "text": [
      "original_value [1, 2, 3, 4, 5, 6, 7, 8, 9, 10]\n",
      "odd_value [1, 3, 5, 7, 9]\n"
     ]
    }
   ],
   "source": [
    "original_list=list(range(1,11))\n",
    "odd_list=[num for num in original_list if num % 2 != 0]\n",
    "\n",
    "print(\"original_value\",original_list)\n",
    "print(\"odd_value\",odd_list)"
   ]
  },
  {
   "cell_type": "code",
   "execution_count": 26,
   "id": "51b19060-8248-489b-94b6-1a1cc5757f2c",
   "metadata": {},
   "outputs": [
    {
     "name": "stdout",
     "output_type": "stream",
     "text": [
      "Largest Even Number: 10\n",
      "Largest Odd Number: 9\n"
     ]
    }
   ],
   "source": [
    "\n",
    "numbers = [1, 2, 3, 4, 5, 6, 7, 8, 9, 10]\n",
    "\n",
    "\n",
    "even_numbers = [num for num in numbers if num % 2 == 0]\n",
    "odd_numbers = [num for num in numbers if num % 2 != 0]\n",
    "\n",
    "\n",
    "largest_even = max(even_numbers) if even_numbers else None\n",
    "largest_odd = max(odd_numbers) if odd_numbers else None\n",
    "\n",
    "\n",
    "print(\"Largest Even Number:\", largest_even)\n",
    "print(\"Largest Odd Number:\", largest_odd)\n"
   ]
  },
  {
   "cell_type": "code",
   "execution_count": 28,
   "id": "85b54e09-f912-49cc-a57c-54fd35ba77be",
   "metadata": {},
   "outputs": [
    {
     "name": "stdin",
     "output_type": "stream",
     "text": [
      " 1 2 3 4 5\n",
      " 1 2 3 4 5\n"
     ]
    },
    {
     "name": "stdout",
     "output_type": "stream",
     "text": [
      "the union of two list is: [1, 2, 3, 4, 5]\n"
     ]
    }
   ],
   "source": [
    "a = list(map(int,input().split()))\n",
    "b = list(map(int,input().split()))\n",
    "\n",
    "union = list(set().union(a,b))\n",
    "print('the union of two list is:',union)"
   ]
  },
  {
   "cell_type": "code",
   "execution_count": null,
   "id": "7ddbb49c-0491-4130-b577-92886f362a9b",
   "metadata": {},
   "outputs": [],
   "source": []
  }
 ],
 "metadata": {
  "kernelspec": {
   "display_name": "Python 3 (ipykernel)",
   "language": "python",
   "name": "python3"
  },
  "language_info": {
   "codemirror_mode": {
    "name": "ipython",
    "version": 3
   },
   "file_extension": ".py",
   "mimetype": "text/x-python",
   "name": "python",
   "nbconvert_exporter": "python",
   "pygments_lexer": "ipython3",
   "version": "3.10.4"
  }
 },
 "nbformat": 4,
 "nbformat_minor": 5
}
