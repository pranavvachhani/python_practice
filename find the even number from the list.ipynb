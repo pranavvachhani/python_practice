{
 "cells": [
  {
   "cell_type": "code",
   "execution_count": 1,
   "id": "6096239f-e48b-4d16-92ce-e0012472c7bc",
   "metadata": {},
   "outputs": [
    {
     "name": "stdout",
     "output_type": "stream",
     "text": [
      "Even numbers in [1, 2, 3, 4, 5, 6, 7, 8, 9, 0]: [2, 4, 6, 8, 0]\n",
      "Even numbers in [28, 56, 72, 55, 0, 101]: [28, 56, 72, 0]\n"
     ]
    }
   ],
   "source": [
    "def find_even_numbers(numbers):\n",
    "    even_numbers = []  \n",
    "    for n in numbers:\n",
    "        if n % 2 == 0:  \n",
    "            even_numbers.append(n)  \n",
    "    return even_numbers\n",
    "\n",
    "\n",
    "list1 = [1, 2, 3, 4, 5, 6, 7, 8, 9, 0]\n",
    "even_numbers1 = find_even_numbers(list1)\n",
    "print(f\"Even numbers in {list1}: {even_numbers1}\")\n",
    "\n",
    "\n",
    "list2 = [28, 56, 72, 55, 0, 101]\n",
    "even_numbers2 = find_even_numbers(list2)\n",
    "print(f\"Even numbers in {list2}: {even_numbers2}\")\n"
   ]
  },
  {
   "cell_type": "code",
   "execution_count": null,
   "id": "19d8ec74-c7e3-4590-98a9-66391a3fbb41",
   "metadata": {},
   "outputs": [],
   "source": []
  }
 ],
 "metadata": {
  "kernelspec": {
   "display_name": "Python 3 (ipykernel)",
   "language": "python",
   "name": "python3"
  },
  "language_info": {
   "codemirror_mode": {
    "name": "ipython",
    "version": 3
   },
   "file_extension": ".py",
   "mimetype": "text/x-python",
   "name": "python",
   "nbconvert_exporter": "python",
   "pygments_lexer": "ipython3",
   "version": "3.10.4"
  }
 },
 "nbformat": 4,
 "nbformat_minor": 5
}
