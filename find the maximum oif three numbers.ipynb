{
 "cells": [
  {
   "cell_type": "code",
   "execution_count": 2,
   "id": "9e842c49-e9b2-40c4-93be-fec059972aa0",
   "metadata": {},
   "outputs": [
    {
     "name": "stdin",
     "output_type": "stream",
     "text": [
      "enter the value of x : 1\n",
      "enter the value of y: 2\n",
      "enter the value of z: 3\n"
     ]
    },
    {
     "name": "stdout",
     "output_type": "stream",
     "text": [
      "z is greater:\n",
      "(1, 2, 3)\n"
     ]
    }
   ],
   "source": [
    "x = int(input(\"enter the value of x :\"))\n",
    "y = int(input(\"enter the value of y:\"))\n",
    "z = int(input(\"enter the value of z:\"))\n",
    "\n",
    "def max_num(x,y,z):\n",
    "    if x > y:\n",
    "        print(\"x is greater:\")\n",
    "    elif y > z:\n",
    "        print(\"y is greater:\")\n",
    "    elif z > x:\n",
    "        print(\"z is greater:\")\n",
    "    return x,y,z\n",
    "\n",
    "print(max_num(x,y,z))\n",
    "    \n",
    "    \n"
   ]
  },
  {
   "cell_type": "code",
   "execution_count": null,
   "id": "f6356910-a61a-47ff-9be3-c8bcfa3a41ae",
   "metadata": {},
   "outputs": [],
   "source": []
  }
 ],
 "metadata": {
  "kernelspec": {
   "display_name": "Python 3 (ipykernel)",
   "language": "python",
   "name": "python3"
  },
  "language_info": {
   "codemirror_mode": {
    "name": "ipython",
    "version": 3
   },
   "file_extension": ".py",
   "mimetype": "text/x-python",
   "name": "python",
   "nbconvert_exporter": "python",
   "pygments_lexer": "ipython3",
   "version": "3.10.4"
  }
 },
 "nbformat": 4,
 "nbformat_minor": 5
}
