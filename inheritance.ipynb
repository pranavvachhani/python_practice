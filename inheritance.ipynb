{
 "cells": [
  {
   "cell_type": "code",
   "execution_count": 1,
   "id": "ccd0183a-03e4-4b44-9fe1-3fe7420b2b34",
   "metadata": {},
   "outputs": [
    {
     "name": "stdout",
     "output_type": "stream",
     "text": [
      "Engine is powerful\n",
      "150km\n"
     ]
    }
   ],
   "source": [
    "class car:\n",
    "    def speed(self):\n",
    "        print(\"150km\")\n",
    "class BMW(car):\n",
    "    def engine(self):\n",
    "        print(\"Engine is powerful\")\n",
    "c = BMW()\n",
    "c.engine()\n",
    "c.speed()"
   ]
  },
  {
   "cell_type": "code",
   "execution_count": 13,
   "id": "54c80471-6d5d-4c35-b8fa-35f14829bf75",
   "metadata": {},
   "outputs": [
    {
     "name": "stdout",
     "output_type": "stream",
     "text": [
      "bark\n",
      "meow\n"
     ]
    }
   ],
   "source": [
    "class animal:\n",
    "    def sound(self):\n",
    "        print(\"some energic sound\")\n",
    "\n",
    "class dog(animal):\n",
    "    def sound(self):\n",
    "        print(\"bark\")\n",
    "\n",
    "class cat(animal):\n",
    "    def sound(self):\n",
    "        print(\"meow\")\n",
    "\n",
    "dog = dog()\n",
    "cat = cat()\n",
    "\n",
    "Dog.sound()\n",
    "Cat.sound()"
   ]
  },
  {
   "cell_type": "code",
   "execution_count": 21,
   "id": "73a59ab4-8ef2-4e2d-bf21-abcd3cb8fa5b",
   "metadata": {},
   "outputs": [
    {
     "name": "stdin",
     "output_type": "stream",
     "text": [
      "Enter your first choice: 16\n",
      "Enter your second choice: 18\n"
     ]
    },
    {
     "data": {
      "text/plain": [
       "34"
      ]
     },
     "execution_count": 21,
     "metadata": {},
     "output_type": "execute_result"
    }
   ],
   "source": [
    "n1 = int(input(\"Enter your first choice:\"))\n",
    "n2 = int(input(\"Enter your second choice:\"))\n",
    "class calculator:\n",
    "    def add(self,num1,num2):\n",
    "        self.sum = num1 + num2\n",
    "    def sub(self,num1,num2):\n",
    "        self.sub = num1 - num2\n",
    "class advanced_calculator(calculator):\n",
    "       def mul(self,num1,num2):\n",
    "        self.mul = num1 * num2\n",
    "       def div(self,num1,num2):\n",
    "        self.div = num1 / num2\n",
    "   \n",
    "\n",
    "c = advanced_calculator()\n",
    "c.add(n1,n2)\n",
    "c.sum"
   ]
  },
  {
   "cell_type": "code",
   "execution_count": null,
   "id": "4f1ff1b2-9dfe-45fb-b731-2e9e3f2c3db6",
   "metadata": {},
   "outputs": [],
   "source": []
  }
 ],
 "metadata": {
  "kernelspec": {
   "display_name": "Python 3 (ipykernel)",
   "language": "python",
   "name": "python3"
  },
  "language_info": {
   "codemirror_mode": {
    "name": "ipython",
    "version": 3
   },
   "file_extension": ".py",
   "mimetype": "text/x-python",
   "name": "python",
   "nbconvert_exporter": "python",
   "pygments_lexer": "ipython3",
   "version": "3.10.4"
  }
 },
 "nbformat": 4,
 "nbformat_minor": 5
}
