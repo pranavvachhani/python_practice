{
 "cells": [
  {
   "cell_type": "code",
   "execution_count": 1,
   "id": "66289810-6e2b-4a1f-b0d9-b1297654609f",
   "metadata": {},
   "outputs": [
    {
     "name": "stdout",
     "output_type": "stream",
     "text": [
      "('hello',)\n",
      "(('hello',),)\n",
      "((('hello',),),)\n"
     ]
    }
   ],
   "source": [
    "tuple=('hello')\n",
    "n = 3\n",
    "for i in range (int(n)):\n",
    "    tuple = (tuple,)\n",
    "    print(tuple)"
   ]
  },
  {
   "cell_type": "code",
   "execution_count": 2,
   "id": "b25bd193-1455-4b27-8a7d-df6b207c8ef7",
   "metadata": {},
   "outputs": [
    {
     "name": "stdout",
     "output_type": "stream",
     "text": [
      "5\n"
     ]
    }
   ],
   "source": [
    "tuple = ('developer',5,8.9,'r',8)\n",
    "print(len(tuple))"
   ]
  },
  {
   "cell_type": "code",
   "execution_count": 4,
   "id": "cc2a162d-708b-44a2-97ae-66cb6a467bc4",
   "metadata": {},
   "outputs": [
    {
     "name": "stdout",
     "output_type": "stream",
     "text": [
      "89\n"
     ]
    }
   ],
   "source": [
    "tuple = (9,5,89,4,8)\n",
    "print(max(tuple))"
   ]
  },
  {
   "cell_type": "code",
   "execution_count": 5,
   "id": "0d61cb37-49e1-4355-a127-c9d68410ad37",
   "metadata": {},
   "outputs": [
    {
     "name": "stdout",
     "output_type": "stream",
     "text": [
      "4\n"
     ]
    }
   ],
   "source": [
    "tuple = (9,5,89,4,8)\n",
    "print(min(tuple))"
   ]
  },
  {
   "cell_type": "code",
   "execution_count": 6,
   "id": "173b65e3-5fe7-4a56-952c-e12c98478811",
   "metadata": {},
   "outputs": [
    {
     "name": "stdout",
     "output_type": "stream",
     "text": [
      "115\n"
     ]
    }
   ],
   "source": [
    "tuple = (9,5,89,4,8)\n",
    "print(sum(tuple))"
   ]
  },
  {
   "cell_type": "code",
   "execution_count": 7,
   "id": "b0a3df12-2bc7-41cd-b51c-292698eb61d3",
   "metadata": {},
   "outputs": [
    {
     "name": "stdout",
     "output_type": "stream",
     "text": [
      "[4, 5, 8, 9, 89]\n"
     ]
    }
   ],
   "source": [
    "tuple = (9,5,89,4,8)\n",
    "print(sorted(tuple))"
   ]
  },
  {
   "cell_type": "code",
   "execution_count": 10,
   "id": "c708cc03-a596-422f-936d-fdf9d5f12e8f",
   "metadata": {},
   "outputs": [
    {
     "name": "stdout",
     "output_type": "stream",
     "text": [
      "True\n"
     ]
    }
   ],
   "source": [
    "tuple = (0,1)\n",
    "print(any(tuple))"
   ]
  },
  {
   "cell_type": "code",
   "execution_count": 9,
   "id": "d0cf50df-10b6-435c-8905-f52e502b0aa3",
   "metadata": {},
   "outputs": [
    {
     "name": "stdout",
     "output_type": "stream",
     "text": [
      "False\n"
     ]
    }
   ],
   "source": [
    "tuple = (0,)\n",
    "print(any(tuple))"
   ]
  },
  {
   "cell_type": "code",
   "execution_count": 11,
   "id": "34141e5a-30b7-4508-b759-bad1c7fb5e45",
   "metadata": {},
   "outputs": [
    {
     "name": "stdout",
     "output_type": "stream",
     "text": [
      "True\n"
     ]
    }
   ],
   "source": [
    "tuple = (4,1)\n",
    "print(all(tuple))"
   ]
  },
  {
   "cell_type": "code",
   "execution_count": 12,
   "id": "c20d0ada-31fa-42ea-b051-a8b6473bfd99",
   "metadata": {},
   "outputs": [
    {
     "name": "stdout",
     "output_type": "stream",
     "text": [
      "False\n"
     ]
    }
   ],
   "source": [
    "tuple = (0,5,7)\n",
    "print(all(tuple))"
   ]
  },
  {
   "cell_type": "code",
   "execution_count": 13,
   "id": "9c265522-1b62-42d9-a3f8-cf8bbd543c3f",
   "metadata": {},
   "outputs": [
    {
     "name": "stdout",
     "output_type": "stream",
     "text": [
      "apple\n",
      "byte\n",
      "computer\n"
     ]
    }
   ],
   "source": [
    "tuple = (\"apple\",\"byte\",\"computer\")\n",
    "for i in tuple:\n",
    "    print(i)"
   ]
  },
  {
   "cell_type": "code",
   "execution_count": 14,
   "id": "9032b297-63b4-459a-b17b-2ec7589a60ac",
   "metadata": {},
   "outputs": [
    {
     "name": "stdout",
     "output_type": "stream",
     "text": [
      "apple\n",
      "byte\n"
     ]
    }
   ],
   "source": [
    "tuple = (\"apple\",\"byte\",\"computer\")\n",
    "n = 2\n",
    "for i in range(n):\n",
    "    print(tuple[i])\n"
   ]
  },
  {
   "cell_type": "code",
   "execution_count": 16,
   "id": "ced82a12-8baa-437d-835d-b45c2abb8898",
   "metadata": {},
   "outputs": [
    {
     "name": "stdout",
     "output_type": "stream",
     "text": [
      "2\n",
      "0\n",
      "1\n"
     ]
    }
   ],
   "source": [
    "tuple = (3,7,'p','y','z',9.5,'y')\n",
    "print(tuple.count('y'))\n",
    "print(tuple.count(9))\n",
    "print(tuple.count(7))"
   ]
  },
  {
   "cell_type": "code",
   "execution_count": 17,
   "id": "cc844bd6-51c6-4593-a7c7-a2d4b8fd5fe9",
   "metadata": {},
   "outputs": [
    {
     "name": "stdout",
     "output_type": "stream",
     "text": [
      "3\n",
      "1\n"
     ]
    }
   ],
   "source": [
    "tuple = (3,7,'p','y','z',9.5,'y')\n",
    "print(tuple.index('y'))\n",
    "print(tuple.index(7))"
   ]
  },
  {
   "cell_type": "code",
   "execution_count": null,
   "id": "90a3aa20-5fc5-43ce-9a94-202c955e5bbb",
   "metadata": {},
   "outputs": [],
   "source": []
  }
 ],
 "metadata": {
  "kernelspec": {
   "display_name": "Python 3 (ipykernel)",
   "language": "python",
   "name": "python3"
  },
  "language_info": {
   "codemirror_mode": {
    "name": "ipython",
    "version": 3
   },
   "file_extension": ".py",
   "mimetype": "text/x-python",
   "name": "python",
   "nbconvert_exporter": "python",
   "pygments_lexer": "ipython3",
   "version": "3.10.4"
  }
 },
 "nbformat": 4,
 "nbformat_minor": 5
}
