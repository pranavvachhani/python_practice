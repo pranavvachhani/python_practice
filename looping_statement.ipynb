{
 "cells": [
  {
   "cell_type": "code",
   "execution_count": 1,
   "id": "b9e59da2-5bd1-44f1-9bc0-cd348e720736",
   "metadata": {},
   "outputs": [
    {
     "name": "stdout",
     "output_type": "stream",
     "text": [
      "('hello',)\n",
      "('hello',)\n",
      "('hello',)\n"
     ]
    }
   ],
   "source": [
    "tuple = ('hello')\n",
    "n = 3\n",
    "for i in range(int(n)):\n",
    "    Tuple = (tuple,)\n",
    "    print(Tuple)"
   ]
  },
  {
   "cell_type": "code",
   "execution_count": 2,
   "id": "05fe9437-d7f8-4351-8c40-d7104ea14db6",
   "metadata": {},
   "outputs": [
    {
     "name": "stdout",
     "output_type": "stream",
     "text": [
      "5\n"
     ]
    }
   ],
   "source": [
    "tuple = ('developer',5,8.9,'r',8)\n",
    "print(len(tuple))"
   ]
  },
  {
   "cell_type": "code",
   "execution_count": 3,
   "id": "622ef865-70e0-4b7c-815a-d002f39ddc77",
   "metadata": {},
   "outputs": [
    {
     "name": "stdout",
     "output_type": "stream",
     "text": [
      "8.9\n"
     ]
    }
   ],
   "source": [
    "tuple = (5,8.9,8)\n",
    "print(max(tuple))"
   ]
  },
  {
   "cell_type": "code",
   "execution_count": 4,
   "id": "a04f3080-00a6-4038-9883-f87f64fff27c",
   "metadata": {},
   "outputs": [
    {
     "name": "stdout",
     "output_type": "stream",
     "text": [
      "5\n"
     ]
    }
   ],
   "source": [
    "tuple = (5,8.9,8)\n",
    "print(min(tuple))"
   ]
  },
  {
   "cell_type": "code",
   "execution_count": 5,
   "id": "21e25954-c504-47c3-a7af-be74fce1cf59",
   "metadata": {},
   "outputs": [
    {
     "name": "stdout",
     "output_type": "stream",
     "text": [
      "21.9\n"
     ]
    }
   ],
   "source": [
    "tuple = (5,8.9,8)\n",
    "print(sum(tuple))"
   ]
  },
  {
   "cell_type": "code",
   "execution_count": 6,
   "id": "25266805-7c16-4a54-8011-364e543dff9c",
   "metadata": {},
   "outputs": [
    {
     "name": "stdout",
     "output_type": "stream",
     "text": [
      "True\n"
     ]
    }
   ],
   "source": [
    "tuple = (5,8.9,8)\n",
    "print(any(tuple))"
   ]
  },
  {
   "cell_type": "code",
   "execution_count": 7,
   "id": "ef5b6217-f4c4-4211-90f2-63ff5ae3926b",
   "metadata": {},
   "outputs": [
    {
     "name": "stdout",
     "output_type": "stream",
     "text": [
      "True\n"
     ]
    }
   ],
   "source": [
    "tuple = (5,8.9,8)\n",
    "print(all(tuple))"
   ]
  },
  {
   "cell_type": "code",
   "execution_count": 8,
   "id": "1e86c67b-bcd1-4108-87fa-e71127d9c677",
   "metadata": {},
   "outputs": [
    {
     "name": "stdout",
     "output_type": "stream",
     "text": [
      "apple\n",
      "byte\n"
     ]
    }
   ],
   "source": [
    "tuple = (\"apple\",\"byte\",\"computer\")\n",
    "n = 2\n",
    "for i in range(n):\n",
    "    print(tuple[i])"
   ]
  },
  {
   "cell_type": "code",
   "execution_count": 9,
   "id": "41da2e06-49f9-4904-8c3a-abd7621c67d1",
   "metadata": {},
   "outputs": [
    {
     "name": "stdout",
     "output_type": "stream",
     "text": [
      "['apple', 'byte', 'computer']\n"
     ]
    }
   ],
   "source": [
    "tuple = (\"apple\",\"byte\",\"computer\")\n",
    "print(list(tuple))"
   ]
  },
  {
   "cell_type": "code",
   "execution_count": 10,
   "id": "755ae84b-f8ac-41a7-95f1-213e2cf273c1",
   "metadata": {},
   "outputs": [
    {
     "name": "stdout",
     "output_type": "stream",
     "text": [
      "()\n"
     ]
    }
   ],
   "source": [
    "tuple = ()\n",
    "print(tuple)"
   ]
  },
  {
   "cell_type": "code",
   "execution_count": 11,
   "id": "b341340d-4f6a-423b-a460-61f633fb1187",
   "metadata": {},
   "outputs": [],
   "source": [
    "value = (26,45,'hello',7.5)\n"
   ]
  },
  {
   "cell_type": "code",
   "execution_count": 12,
   "id": "7f9dcff4-17a8-4e39-8a1d-f802a1f7b9b5",
   "metadata": {},
   "outputs": [],
   "source": [
    "# value[2] = \"python\""
   ]
  },
  {
   "cell_type": "code",
   "execution_count": 13,
   "id": "add2d1a5-81c2-416c-aa2f-730726d8cbe4",
   "metadata": {},
   "outputs": [
    {
     "name": "stdout",
     "output_type": "stream",
     "text": [
      "(1, 2, 3, 4, 5, 6)\n"
     ]
    }
   ],
   "source": [
    "tup1=(1,2,3)\n",
    "tup2=(4,5,6)\n",
    "tup3=(7,8,9)\n",
    "\n",
    "tup3=tup1+tup2\n",
    "print(tup3)"
   ]
  },
  {
   "cell_type": "code",
   "execution_count": 14,
   "id": "0d910e95-6f8e-4640-b5b3-2bf43043c867",
   "metadata": {},
   "outputs": [
    {
     "name": "stdout",
     "output_type": "stream",
     "text": [
      "((1, 2, 3), (4, 5, 6))\n"
     ]
    }
   ],
   "source": [
    "tup1=(1,2,3)\n",
    "tup2=(4,5,6)\n",
    "tup3=(7,8,9)\n",
    "\n",
    "tup3=tup1,tup2\n",
    "print(tup3)"
   ]
  },
  {
   "cell_type": "code",
   "execution_count": 15,
   "id": "558ea7a5-db9c-457c-a308-c548e2c3bd8b",
   "metadata": {},
   "outputs": [
    {
     "name": "stdin",
     "output_type": "stream",
     "text": [
      "Enter how many tuples you want to enter:  3\n",
      " 12\n",
      " 43\n",
      " 54\n"
     ]
    },
    {
     "ename": "TypeError",
     "evalue": "'tuple' object is not callable",
     "output_type": "error",
     "traceback": [
      "\u001b[1;31m---------------------------------------------------------------------------\u001b[0m",
      "\u001b[1;31mTypeError\u001b[0m                                 Traceback (most recent call last)",
      "Cell \u001b[1;32mIn[15], line 7\u001b[0m\n\u001b[0;32m      4\u001b[0m \u001b[38;5;28;01mfor\u001b[39;00m i \u001b[38;5;129;01min\u001b[39;00m \u001b[38;5;28mrange\u001b[39m(x):     \n\u001b[0;32m      5\u001b[0m     list2\u001b[38;5;241m.\u001b[39mappend(\u001b[38;5;28mint\u001b[39m(\u001b[38;5;28minput\u001b[39m() ) )\n\u001b[1;32m----> 7\u001b[0m value \u001b[38;5;241m=\u001b[39m \u001b[38;5;28;43mtuple\u001b[39;49m\u001b[43m(\u001b[49m\u001b[43mlist2\u001b[49m\u001b[43m)\u001b[49m\n\u001b[0;32m      8\u001b[0m \u001b[38;5;28mprint\u001b[39m(\u001b[38;5;124m\"\u001b[39m\u001b[38;5;130;01m\\n\u001b[39;00m\u001b[38;5;124mHere is the list of tuples you entered:\u001b[39m\u001b[38;5;124m\"\u001b[39m)\n\u001b[0;32m      9\u001b[0m \u001b[38;5;28mprint\u001b[39m(value)\n",
      "\u001b[1;31mTypeError\u001b[0m: 'tuple' object is not callable"
     ]
    }
   ],
   "source": [
    "x = int(input(\"Enter how many tuples you want to enter: \"))\n",
    "list2 = []  \n",
    "\n",
    "for i in range(x):     \n",
    "    list2.append(int(input()))\n",
    "\n",
    "value = tuple(list2)\n",
    "print(\"\\nHere is the list of tuples you entered:\")\n",
    "print(value)\n"
   ]
  },
  {
   "cell_type": "code",
   "execution_count": null,
   "id": "18c48fd1-0100-4a12-9f5f-a22b818b158d",
   "metadata": {},
   "outputs": [],
   "source": []
  },
  {
   "cell_type": "code",
   "execution_count": null,
   "id": "8ff0ee05-97e9-4497-94ce-4011729e2c91",
   "metadata": {},
   "outputs": [],
   "source": []
  }
 ],
 "metadata": {
  "kernelspec": {
   "display_name": "Python 3 (ipykernel)",
   "language": "python",
   "name": "python3"
  },
  "language_info": {
   "codemirror_mode": {
    "name": "ipython",
    "version": 3
   },
   "file_extension": ".py",
   "mimetype": "text/x-python",
   "name": "python",
   "nbconvert_exporter": "python",
   "pygments_lexer": "ipython3",
   "version": "3.10.4"
  }
 },
 "nbformat": 4,
 "nbformat_minor": 5
}
