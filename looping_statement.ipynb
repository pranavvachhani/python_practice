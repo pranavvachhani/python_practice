{
 "cells": [
  {
   "cell_type": "code",
   "execution_count": 3,
   "id": "b9e59da2-5bd1-44f1-9bc0-cd348e720736",
   "metadata": {},
   "outputs": [
    {
     "name": "stdout",
     "output_type": "stream",
     "text": [
      "('hello',)\n",
      "('hello',)\n",
      "('hello',)\n"
     ]
    }
   ],
   "source": [
    "tuple = ('hello')\n",
    "n = 3\n",
    "for i in range(int(n)):\n",
    "    Tuple = (tuple,)\n",
    "    print(Tuple)"
   ]
  },
  {
   "cell_type": "code",
   "execution_count": 4,
   "id": "05fe9437-d7f8-4351-8c40-d7104ea14db6",
   "metadata": {},
   "outputs": [
    {
     "name": "stdout",
     "output_type": "stream",
     "text": [
      "5\n"
     ]
    }
   ],
   "source": [
    "tuple = ('developer',5,8.9,'r',8)\n",
    "print(len(tuple))"
   ]
  },
  {
   "cell_type": "code",
   "execution_count": null,
   "id": "622ef865-70e0-4b7c-815a-d002f39ddc77",
   "metadata": {},
   "outputs": [],
   "source": []
  }
 ],
 "metadata": {
  "kernelspec": {
   "display_name": "Python 3 (ipykernel)",
   "language": "python",
   "name": "python3"
  },
  "language_info": {
   "codemirror_mode": {
    "name": "ipython",
    "version": 3
   },
   "file_extension": ".py",
   "mimetype": "text/x-python",
   "name": "python",
   "nbconvert_exporter": "python",
   "pygments_lexer": "ipython3",
   "version": "3.10.4"
  }
 },
 "nbformat": 4,
 "nbformat_minor": 5
}
