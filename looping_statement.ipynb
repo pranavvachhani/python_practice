{
 "cells": [
  {
   "cell_type": "code",
   "execution_count": 1,
   "id": "b9e59da2-5bd1-44f1-9bc0-cd348e720736",
   "metadata": {},
   "outputs": [
    {
     "name": "stdout",
     "output_type": "stream",
     "text": [
      "('hello',)\n",
      "('hello',)\n",
      "('hello',)\n"
     ]
    }
   ],
   "source": [
    "tuple = ('hello')\n",
    "n = 3\n",
    "for i in range(int(n)):\n",
    "    Tuple = (tuple,)\n",
    "    print(Tuple)"
   ]
  },
  {
   "cell_type": "code",
   "execution_count": 2,
   "id": "05fe9437-d7f8-4351-8c40-d7104ea14db6",
   "metadata": {},
   "outputs": [
    {
     "name": "stdout",
     "output_type": "stream",
     "text": [
      "5\n"
     ]
    }
   ],
   "source": [
    "tuple = ('developer',5,8.9,'r',8)\n",
    "print(len(tuple))"
   ]
  },
  {
   "cell_type": "code",
   "execution_count": 3,
   "id": "622ef865-70e0-4b7c-815a-d002f39ddc77",
   "metadata": {},
   "outputs": [
    {
     "name": "stdout",
     "output_type": "stream",
     "text": [
      "8.9\n"
     ]
    }
   ],
   "source": [
    "tuple = (5,8.9,8)\n",
    "print(max(tuple))"
   ]
  },
  {
   "cell_type": "code",
   "execution_count": 4,
   "id": "a04f3080-00a6-4038-9883-f87f64fff27c",
   "metadata": {},
   "outputs": [
    {
     "name": "stdout",
     "output_type": "stream",
     "text": [
      "5\n"
     ]
    }
   ],
   "source": [
    "tuple = (5,8.9,8)\n",
    "print(min(tuple))"
   ]
  },
  {
   "cell_type": "code",
   "execution_count": 5,
   "id": "21e25954-c504-47c3-a7af-be74fce1cf59",
   "metadata": {},
   "outputs": [
    {
     "name": "stdout",
     "output_type": "stream",
     "text": [
      "21.9\n"
     ]
    }
   ],
   "source": [
    "tuple = (5,8.9,8)\n",
    "print(sum(tuple))"
   ]
  },
  {
   "cell_type": "code",
   "execution_count": 6,
   "id": "25266805-7c16-4a54-8011-364e543dff9c",
   "metadata": {},
   "outputs": [
    {
     "name": "stdout",
     "output_type": "stream",
     "text": [
      "True\n"
     ]
    }
   ],
   "source": [
    "tuple = (5,8.9,8)\n",
    "print(any(tuple))"
   ]
  },
  {
   "cell_type": "code",
   "execution_count": 7,
   "id": "ef5b6217-f4c4-4211-90f2-63ff5ae3926b",
   "metadata": {},
   "outputs": [
    {
     "name": "stdout",
     "output_type": "stream",
     "text": [
      "True\n"
     ]
    }
   ],
   "source": [
    "tuple = (5,8.9,8)\n",
    "print(all(tuple))"
   ]
  },
  {
   "cell_type": "code",
   "execution_count": 8,
   "id": "1e86c67b-bcd1-4108-87fa-e71127d9c677",
   "metadata": {},
   "outputs": [
    {
     "name": "stdout",
     "output_type": "stream",
     "text": [
      "apple\n",
      "byte\n"
     ]
    }
   ],
   "source": [
    "tuple = (\"apple\",\"byte\",\"computer\")\n",
    "n = 2\n",
    "for i in range(n):\n",
    "    print(tuple[i])"
   ]
  },
  {
   "cell_type": "code",
   "execution_count": 9,
   "id": "41da2e06-49f9-4904-8c3a-abd7621c67d1",
   "metadata": {},
   "outputs": [
    {
     "name": "stdout",
     "output_type": "stream",
     "text": [
      "['apple', 'byte', 'computer']\n"
     ]
    }
   ],
   "source": [
    "tuple = (\"apple\",\"byte\",\"computer\")\n",
    "print(list(tuple))"
   ]
  },
  {
   "cell_type": "code",
   "execution_count": 10,
   "id": "755ae84b-f8ac-41a7-95f1-213e2cf273c1",
   "metadata": {},
   "outputs": [
    {
     "name": "stdout",
     "output_type": "stream",
     "text": [
      "()\n"
     ]
    }
   ],
   "source": [
    "tuple = ()\n",
    "print(tuple)"
   ]
  },
  {
   "cell_type": "code",
   "execution_count": 11,
   "id": "b341340d-4f6a-423b-a460-61f633fb1187",
   "metadata": {},
   "outputs": [],
   "source": [
    "value = (26,45,'hello',7.5)\n"
   ]
  },
  {
   "cell_type": "code",
   "execution_count": 12,
   "id": "7f9dcff4-17a8-4e39-8a1d-f802a1f7b9b5",
   "metadata": {},
   "outputs": [],
   "source": [
    "# value[2] = \"python\""
   ]
  },
  {
   "cell_type": "code",
   "execution_count": 13,
   "id": "add2d1a5-81c2-416c-aa2f-730726d8cbe4",
   "metadata": {},
   "outputs": [
    {
     "name": "stdout",
     "output_type": "stream",
     "text": [
      "(1, 2, 3, 4, 5, 6)\n"
     ]
    }
   ],
   "source": [
    "tup1=(1,2,3)\n",
    "tup2=(4,5,6)\n",
    "tup3=(7,8,9)\n",
    "\n",
    "tup3=tup1+tup2\n",
    "print(tup3)"
   ]
  },
  {
   "cell_type": "code",
   "execution_count": 14,
   "id": "0d910e95-6f8e-4640-b5b3-2bf43043c867",
   "metadata": {},
   "outputs": [
    {
     "name": "stdout",
     "output_type": "stream",
     "text": [
      "((1, 2, 3), (4, 5, 6))\n"
     ]
    }
   ],
   "source": [
    "tup1=(1,2,3)\n",
    "tup2=(4,5,6)\n",
    "tup3=(7,8,9)\n",
    "\n",
    "tup3=tup1,tup2\n",
    "print(tup3)"
   ]
  },
  {
   "cell_type": "code",
   "execution_count": 9,
   "id": "558ea7a5-db9c-457c-a308-c548e2c3bd8b",
   "metadata": {},
   "outputs": [
    {
     "name": "stdin",
     "output_type": "stream",
     "text": [
      "Enter how many tuples you want to enter:  2\n",
      " 16\n",
      " 20\n"
     ]
    },
    {
     "name": "stdout",
     "output_type": "stream",
     "text": [
      "\n",
      "Here is the list of tuples you entered:\n",
      "(16, 20)\n"
     ]
    }
   ],
   "source": [
    "x = int(input(\"Enter how many tuples you want to enter: \"))\n",
    "list_2 = []  \n",
    "\n",
    "for i in range(x):     \n",
    "    list_2.append(int(input()))\n",
    "\n",
    "value = tuple(list_2)\n",
    "print(\"\\nHere is the list of tuples you entered:\")\n",
    "print(value)\n"
   ]
  },
  {
   "cell_type": "code",
   "execution_count": 1,
   "id": "18c48fd1-0100-4a12-9f5f-a22b818b158d",
   "metadata": {},
   "outputs": [
    {
     "name": "stdout",
     "output_type": "stream",
     "text": [
      "one\n",
      "two\n",
      "three\n",
      "four\n"
     ]
    }
   ],
   "source": [
    "number = (\"one\",\"two\",\"three\",\"four\")\n",
    "i = 0\n",
    "while i < len(number):\n",
    "    print(number[i])\n",
    "    i = i + 1\n"
   ]
  },
  {
   "cell_type": "code",
   "execution_count": 3,
   "id": "8ff0ee05-97e9-4497-94ce-4011729e2c91",
   "metadata": {},
   "outputs": [
    {
     "name": "stdout",
     "output_type": "stream",
     "text": [
      "45\n"
     ]
    }
   ],
   "source": [
    "value_tuple=(26,12,10,6,67,91,45,'hello',7.5,99,7,'name')\n",
    "\n",
    "for i in value_tuple:\n",
    "    if i == 45:\n",
    "        \n",
    "        print(i)"
   ]
  },
  {
   "cell_type": "code",
   "execution_count": 8,
   "id": "5000681f-d200-4881-8c90-4e05bb2224be",
   "metadata": {},
   "outputs": [
    {
     "name": "stdout",
     "output_type": "stream",
     "text": [
      "1\n",
      "2 3\n",
      "4\n"
     ]
    }
   ],
   "source": [
    "number = ('1','2','3','4')\n",
    "(a,*b,c) = number\n",
    "print(a)\n",
    "print(*b)\n",
    "print(c)\n"
   ]
  },
  {
   "cell_type": "code",
   "execution_count": 12,
   "id": "fcaeca73-1b6c-4567-b8d5-f61863916c73",
   "metadata": {},
   "outputs": [
    {
     "name": "stdout",
     "output_type": "stream",
     "text": [
      "True\n"
     ]
    }
   ],
   "source": [
    "value_set = {2,'PYTHON','a',5,9.4}\n",
    "\n",
    "print('PYTHON' in value_set)"
   ]
  },
  {
   "cell_type": "code",
   "execution_count": 15,
   "id": "0d071f5a-8dbc-4c5e-b8dc-fb21a7a7757c",
   "metadata": {},
   "outputs": [
    {
     "data": {
      "text/plain": [
       "{2, 5, 9.4, 'PYTHON', 'a', 'apple'}"
      ]
     },
     "execution_count": 15,
     "metadata": {},
     "output_type": "execute_result"
    }
   ],
   "source": [
    "value_set = {2,'PYTHON','a',5,9.4}\n",
    "\n",
    "value_set.add(\"apple\")\n",
    "value_set"
   ]
  },
  {
   "cell_type": "code",
   "execution_count": null,
   "id": "d483897e-2fc3-4ea4-b90b-81016c0e77a4",
   "metadata": {},
   "outputs": [],
   "source": []
  }
 ],
 "metadata": {
  "kernelspec": {
   "display_name": "Python 3 (ipykernel)",
   "language": "python",
   "name": "python3"
  },
  "language_info": {
   "codemirror_mode": {
    "name": "ipython",
    "version": 3
   },
   "file_extension": ".py",
   "mimetype": "text/x-python",
   "name": "python",
   "nbconvert_exporter": "python",
   "pygments_lexer": "ipython3",
   "version": "3.10.4"
  }
 },
 "nbformat": 4,
 "nbformat_minor": 5
}
