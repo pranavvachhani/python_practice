{
 "cells": [
  {
   "cell_type": "code",
   "execution_count": 7,
   "id": "d6adb763-f52d-456b-a0ed-03bb25649b23",
   "metadata": {},
   "outputs": [
    {
     "name": "stdin",
     "output_type": "stream",
     "text": [
      "Enter the name:  pranav\n",
      "Enter the staff ID:  1618\n",
      "Enter the total days worked:  10\n",
      "Enter the total hours worked:  19\n"
     ]
    },
    {
     "name": "stdout",
     "output_type": "stream",
     "text": [
      "Name: pranav\n",
      "Staff ID: 1618\n",
      "Days Worked: 10\n",
      "Hours Worked: 19\n",
      "Total Salary Earned: ₹2850\n"
     ]
    }
   ],
   "source": [
    "class Person:\n",
    "    def __init__(self, name):\n",
    "        self.name = name\n",
    "\n",
    "    def display(self):\n",
    "        print(f\"Name: {self.name}\")\n",
    "\n",
    "\n",
    "class Staff(Person):\n",
    "    def __init__(self, name, staff_id):\n",
    "        self.name = name  \n",
    "        self.staff_id = staff_id\n",
    "\n",
    "    def display(self):\n",
    "        print(f\"Name: {self.name}\")\n",
    "        print(f\"Staff ID: {self.staff_id}\")\n",
    "\n",
    "\n",
    "class Temporary(Staff):\n",
    "    def __init__(self, name, staff_id, total_days, total_hours):\n",
    "        self.name = name  \n",
    "        self.staff_id = staff_id  \n",
    "        self.total_days = total_days\n",
    "        self.total_hours = total_hours\n",
    "\n",
    "    def salary(self):\n",
    "        return self.total_hours * 150\n",
    "\n",
    "    def display(self):\n",
    "        print(f\"Name: {self.name}\")\n",
    "        print(f\"Staff ID: {self.staff_id}\")\n",
    "        print(f\"Days Worked: {self.total_days}\")\n",
    "        print(f\"Hours Worked: {self.total_hours}\")\n",
    "        print(f\"Total Salary Earned: ₹{self.salary()}\")\n",
    "\n",
    "\n",
    "\n",
    "name = input(\"Enter the name: \")\n",
    "staff_id = input(\"Enter the staff ID: \")\n",
    "total_days = int(input(\"Enter the total days worked: \"))\n",
    "total_hours = int(input(\"Enter the total hours worked: \"))\n",
    "\n",
    "\n",
    "temp_staff = Temporary(name, staff_id, total_days, total_hours)\n",
    "temp_staff.display()\n"
   ]
  },
  {
   "cell_type": "code",
   "execution_count": null,
   "id": "af252f16-9fa0-4e34-9620-553e993f5b7a",
   "metadata": {},
   "outputs": [],
   "source": []
  }
 ],
 "metadata": {
  "kernelspec": {
   "display_name": "Python 3 (ipykernel)",
   "language": "python",
   "name": "python3"
  },
  "language_info": {
   "codemirror_mode": {
    "name": "ipython",
    "version": 3
   },
   "file_extension": ".py",
   "mimetype": "text/x-python",
   "name": "python",
   "nbconvert_exporter": "python",
   "pygments_lexer": "ipython3",
   "version": "3.12.6"
  }
 },
 "nbformat": 4,
 "nbformat_minor": 5
}
