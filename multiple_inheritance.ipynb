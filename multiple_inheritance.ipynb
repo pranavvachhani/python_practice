{
 "cells": [
  {
   "cell_type": "code",
   "execution_count": 6,
   "id": "e6621a67-1007-44c7-84d1-c9752baad4f3",
   "metadata": {},
   "outputs": [
    {
     "name": "stdin",
     "output_type": "stream",
     "text": [
      "Enter your name:  pranav vachhani\n",
      "Enter your address:  alliance university \n",
      "Enter your mobile number:  6354047096\n"
     ]
    },
    {
     "name": "stdout",
     "output_type": "stream",
     "text": [
      "\n",
      "Select Room Type:\n",
      "1. Normal Room\n",
      "2. AC Room\n",
      "3. Suite Room\n"
     ]
    },
    {
     "name": "stdin",
     "output_type": "stream",
     "text": [
      "Enter room type (1/2/3):  3\n",
      "Enter the number of rooms:  2\n",
      "Enter the number of days:  5\n"
     ]
    },
    {
     "name": "stdout",
     "output_type": "stream",
     "text": [
      "\n",
      "--- Hotel Booking Details ---\n",
      "Name: pranav vachhani\n",
      "Address: alliance university \n",
      "Mobile Number: 6354047096\n",
      "Room Type: Suite Room\n",
      "Number of Rooms: 2\n",
      "Number of Days: 5\n",
      "Total Rent: 5000 INR\n"
     ]
    }
   ],
   "source": [
    "class NormalRoom:\n",
    "    def calculate(self, no_rooms, days):\n",
    "        if days == 1:\n",
    "            rent_per_room = 300\n",
    "        elif 1 < days <= 5:\n",
    "            rent_per_room = 250\n",
    "        else:\n",
    "            rent_per_room = 200\n",
    "        return no_rooms * days * rent_per_room\n",
    "\n",
    "\n",
    "class ACRoom:\n",
    "    def AC_calculate(self, no_rooms, days):\n",
    "        if days == 1:\n",
    "            rent_per_room = 450\n",
    "        elif 1 < days <= 5:\n",
    "            rent_per_room = 300\n",
    "        else:\n",
    "            rent_per_room = 250\n",
    "        return no_rooms * days * rent_per_room\n",
    "\n",
    "\n",
    "class SuiteRoom:\n",
    "    def suite_calculate(self, no_rooms, days):\n",
    "        if days == 1:\n",
    "            rent_per_room = 550\n",
    "        elif 1 < days <= 5:\n",
    "            rent_per_room = 500\n",
    "        else:\n",
    "            rent_per_room = 450\n",
    "        return no_rooms * days * rent_per_room\n",
    "\n",
    "\n",
    "class Hotel(NormalRoom, ACRoom, SuiteRoom):\n",
    "    def display(self, name, address, mobile_number):\n",
    "        print(\"\\n--- Hotel Booking Details ---\")\n",
    "        print(f\"Name: {name}\")\n",
    "        print(f\"Address: {address}\")\n",
    "        print(f\"Mobile Number: {mobile_number}\")\n",
    "\n",
    "\n",
    "if __name__ == \"__main__\":\n",
    "    \n",
    "    hotel = Hotel()\n",
    "    \n",
    "    \n",
    "    name = input(\"Enter your name: \")\n",
    "    address = input(\"Enter your address: \")\n",
    "    mobile_number = input(\"Enter your mobile number: \")\n",
    "    \n",
    "    \n",
    "    print(\"\\nSelect Room Type:\")\n",
    "    print(\"1. Normal Room\")\n",
    "    print(\"2. AC Room\")\n",
    "    print(\"3. Suite Room\")\n",
    "    \n",
    "    \n",
    "    room_type = int(input(\"Enter room type (1/2/3): \"))\n",
    "    no_rooms = int(input(\"Enter the number of rooms: \"))\n",
    "    days = int(input(\"Enter the number of days: \"))\n",
    "    \n",
    "   \n",
    "    if room_type == 1:\n",
    "        rent = hotel.calculate(no_rooms, days)\n",
    "        room_name = \"Normal Room\"\n",
    "    elif room_type == 2:\n",
    "        rent = hotel.AC_calculate(no_rooms, days)\n",
    "        room_name = \"AC Room\"\n",
    "    elif room_type == 3:\n",
    "        rent = hotel.suite_calculate(no_rooms, days)\n",
    "        room_name = \"Suite Room\"\n",
    "    else:\n",
    "        print(\"Invalid room type selected!\")\n",
    "        exit()\n",
    "    \n",
    "   \n",
    "    hotel.display(name, address, mobile_number)\n",
    "    print(f\"Room Type: {room_name}\")\n",
    "    print(f\"Number of Rooms: {no_rooms}\")\n",
    "    print(f\"Number of Days: {days}\")\n",
    "    print(f\"Total Rent: {rent} INR\")\n"
   ]
  },
  {
   "cell_type": "code",
   "execution_count": null,
   "id": "3ef51b97-ece9-481c-80a4-8cf65ff27d0a",
   "metadata": {},
   "outputs": [],
   "source": []
  }
 ],
 "metadata": {
  "kernelspec": {
   "display_name": "Python 3 (ipykernel)",
   "language": "python",
   "name": "python3"
  },
  "language_info": {
   "codemirror_mode": {
    "name": "ipython",
    "version": 3
   },
   "file_extension": ".py",
   "mimetype": "text/x-python",
   "name": "python",
   "nbconvert_exporter": "python",
   "pygments_lexer": "ipython3",
   "version": "3.10.4"
  }
 },
 "nbformat": 4,
 "nbformat_minor": 5
}
