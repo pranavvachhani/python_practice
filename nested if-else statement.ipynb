{
 "cells": [
  {
   "cell_type": "code",
   "execution_count": 8,
   "id": "bf496eb0-157d-4410-abf8-effe31d1fad7",
   "metadata": {},
   "outputs": [
    {
     "name": "stdin",
     "output_type": "stream",
     "text": [
      "Enter a number:  0\n"
     ]
    },
    {
     "name": "stdout",
     "output_type": "stream",
     "text": [
      "zero.\n"
     ]
    }
   ],
   "source": [
    "num = int(input(\"Enter a number: \"))\n",
    "if num >= 0:  \n",
    "    if num == 0:\n",
    "        print(\"zero.\")\n",
    "    elif num % 2 == 0:\n",
    "        print(\"positive and even.\")\n",
    "    else:\n",
    "        print(\"positive and odd.\")\n",
    "else:  \n",
    "    if num % 2 != 0:\n",
    "        print(\"negative and odd.\")\n",
    "    else:\n",
    "        print(\"negative and even.\")\n"
   ]
  },
  {
   "cell_type": "code",
   "execution_count": null,
   "id": "9e64dcec-8928-4a85-8ce1-3dcc44fc1f61",
   "metadata": {},
   "outputs": [],
   "source": []
  }
 ],
 "metadata": {
  "kernelspec": {
   "display_name": "Python 3 (ipykernel)",
   "language": "python",
   "name": "python3"
  },
  "language_info": {
   "codemirror_mode": {
    "name": "ipython",
    "version": 3
   },
   "file_extension": ".py",
   "mimetype": "text/x-python",
   "name": "python",
   "nbconvert_exporter": "python",
   "pygments_lexer": "ipython3",
   "version": "3.10.4"
  }
 },
 "nbformat": 4,
 "nbformat_minor": 5
}
