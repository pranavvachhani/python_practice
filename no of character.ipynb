{
 "cells": [
  {
   "cell_type": "code",
   "execution_count": null,
   "id": "ba6bfcfe-dffd-413d-ab01-33c8803c3ede",
   "metadata": {},
   "outputs": [],
   "source": [
    "x=int(input(\"enter your number:\"))\n",
    "digit=0\n",
    "alphabet=0\n",
    "for i in x:\n",
    "    if i.isdigit():\n",
    "        digit+=1\n",
    "    elif i.isalph():\n",
    "        alphabet+=1\n",
    "print(\"digit:\",digit)\n",
    "print(\"alphabet:\")\n",
    "        "
   ]
  },
  {
   "cell_type": "code",
   "execution_count": null,
   "id": "8874b2d7-4b73-4ca4-b4da-480d5d4553b7",
   "metadata": {},
   "outputs": [],
   "source": []
  }
 ],
 "metadata": {
  "kernelspec": {
   "display_name": "Python 3 (ipykernel)",
   "language": "python",
   "name": "python3"
  },
  "language_info": {
   "codemirror_mode": {
    "name": "ipython",
    "version": 3
   },
   "file_extension": ".py",
   "mimetype": "text/x-python",
   "name": "python",
   "nbconvert_exporter": "python",
   "pygments_lexer": "ipython3",
   "version": "3.10.4"
  }
 },
 "nbformat": 4,
 "nbformat_minor": 5
}
