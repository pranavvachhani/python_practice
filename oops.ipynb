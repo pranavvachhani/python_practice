{
 "cells": [
  {
   "cell_type": "code",
   "execution_count": 1,
   "id": "9c35d9af-f18d-42d2-b87e-a961a55d037d",
   "metadata": {},
   "outputs": [
    {
     "name": "stdout",
     "output_type": "stream",
     "text": [
      "welcome to oops concept\n"
     ]
    }
   ],
   "source": [
    "class python:\n",
    "    def fun(self):\n",
    "        print(\"welcome to oops concept\")\n",
    "pyt=python()\n",
    "pyt.fun()"
   ]
  },
  {
   "cell_type": "code",
   "execution_count": 9,
   "id": "82dae6db-15d0-4dd8-a1de-bb6697758fca",
   "metadata": {},
   "outputs": [
    {
     "name": "stdout",
     "output_type": "stream",
     "text": [
      "name:  BMW id:  2000000\n"
     ]
    }
   ],
   "source": [
    "class car:\n",
    "    car = 0\n",
    "    def __init__(self,name,id):\n",
    "      self.name=name\n",
    "      self.id=id\n",
    "      car.car+=1\n",
    "\n",
    "    def printcardata(self):\n",
    "        print(\"name: \",self.name,\"id: \",self.id)\n",
    "c=car(\"BMW\",2000000)\n",
    "c.printcardata()"
   ]
  },
  {
   "cell_type": "code",
   "execution_count": 15,
   "id": "77e9c49b-e172-4468-bb8a-d7c7e35ed39e",
   "metadata": {},
   "outputs": [
    {
     "name": "stdout",
     "output_type": "stream",
     "text": [
      "PRANAV 21 100000\n"
     ]
    }
   ],
   "source": [
    "class employee:\n",
    "    def set_data(self,name,age,salary):\n",
    "        self.name = name\n",
    "        self.age = age\n",
    "        self.salary = salary\n",
    "    def display_data(self):\n",
    "        print(self.name, self.age, self.salary)\n",
    "e1 = employee()\n",
    "e1.set_data(\"PRANAV\",21,100000)\n",
    "e1.display_data()"
   ]
  },
  {
   "cell_type": "code",
   "execution_count": 19,
   "id": "5ac21a10-15ce-46bb-97dc-d0403eeee27d",
   "metadata": {},
   "outputs": [
    {
     "name": "stdout",
     "output_type": "stream",
     "text": [
      "number is positive:\n"
     ]
    }
   ],
   "source": [
    "class data:\n",
    "    def num_data(self,num):\n",
    "        self.num = num\n",
    "\n",
    "    def check_data(self):\n",
    "        if self.num > 0:\n",
    "            print(\"number is positive:\")\n",
    "        elif self.num == 0:\n",
    "            print(\"number is neutral:\")\n",
    "        else:\n",
    "            print(\"number is negative:\")\n",
    "dt=data()\n",
    "dt.num_data(2)\n",
    "dt.check_data()"
   ]
  },
  {
   "cell_type": "code",
   "execution_count": null,
   "id": "cb62eac4-0321-48b9-9e1f-74c6d1f3526f",
   "metadata": {},
   "outputs": [],
   "source": [
    "class car:\n",
    "    car = 0\n",
    "    def __init__(self,name,id):\n",
    "      self.name=name\n",
    "      self.id=id\n",
    "      car.car+=1\n",
    "\n",
    "    def printcardata(self):\n",
    "        print(\"name: \",self.name,\"id: \",self.id)\n",
    "c=car(\"BMW\",2000000)\n",
    "c1=car(\"BENZ\",2000000)\n",
    "c2=car(\"ASTON\",2000000)\n",
    "c.printcardata()"
   ]
  }
 ],
 "metadata": {
  "kernelspec": {
   "display_name": "Python 3 (ipykernel)",
   "language": "python",
   "name": "python3"
  },
  "language_info": {
   "codemirror_mode": {
    "name": "ipython",
    "version": 3
   },
   "file_extension": ".py",
   "mimetype": "text/x-python",
   "name": "python",
   "nbconvert_exporter": "python",
   "pygments_lexer": "ipython3",
   "version": "3.10.4"
  }
 },
 "nbformat": 4,
 "nbformat_minor": 5
}
