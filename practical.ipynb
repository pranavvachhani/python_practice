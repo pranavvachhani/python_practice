{
 "cells": [
  {
   "cell_type": "markdown",
   "id": "b5e82c24-4412-40a5-bd63-a0c67478e06e",
   "metadata": {},
   "source": [
    "# PRANAV'S PYTHON CODE "
   ]
  },
  {
   "cell_type": "code",
   "execution_count": 7,
   "id": "6f2cd8aa-d10b-4955-a255-7980288ee2e5",
   "metadata": {},
   "outputs": [
    {
     "name": "stdin",
     "output_type": "stream",
     "text": [
      "enter then value 36\n"
     ]
    },
    {
     "name": "stdout",
     "output_type": "stream",
     "text": [
      "96.8\n",
      "309.15\n"
     ]
    }
   ],
   "source": [
    "c=int(input(\"enter then value\"))\n",
    "f=((c*(9/5))+32)\n",
    "k=c+273.15\n",
    "print(f)\n",
    "print(k)"
   ]
  },
  {
   "cell_type": "raw",
   "id": "00c23cc7-cce4-4881-ad6f-8f84eefad047",
   "metadata": {},
   "source": [
    "fname=input(\"enter the first nmame:\")\n",
    "lname=input(\"enter the last name:\")\n",
    "age=int(input(\"enter the age:\"))\n",
    "nage=int(input(\"enter the nage:\"))\n",
    "print(fnma)\n",
    "print(lname)\n",
    "print(age)\n",
    "print(\"after input:\")"
   ]
  },
  {
   "cell_type": "code",
   "execution_count": 8,
   "id": "d46f3ae1-ee19-4301-8069-ac72e544ca1e",
   "metadata": {},
   "outputs": [
    {
     "name": "stdout",
     "output_type": "stream",
     "text": [
      "befotre swapping a,b\n",
      "10\n",
      "20\n",
      "after the swaping the results\n",
      "20\n",
      "10\n"
     ]
    }
   ],
   "source": [
    "\n",
    "print(\"befotre swapping a,b\")\n",
    "a=10\n",
    "b=20\n",
    "print(a)\n",
    "print(b)\n",
    "print(\"after the swaping the results\")\n",
    "a=a+b\n",
    "b=a-b\n",
    "a=a-b\n",
    "print(a)\n",
    "print(b)\n"
   ]
  },
  {
   "cell_type": "code",
   "execution_count": 6,
   "id": "3f6d1e65-7ec4-4bd6-a14a-c5d3abe74558",
   "metadata": {},
   "outputs": [
    {
     "name": "stdout",
     "output_type": "stream",
     "text": [
      "Before swapping: a = 5, b = 10\n",
      "After swapping: a = 10, b = 5\n"
     ]
    }
   ],
   "source": [
    "a = 5\n",
    "b = 10\n",
    "print(f\"Before swapping: a = {a}, b = {b}\")\n",
    "a, b = b,a\n",
    "print(f\"After swapping: a = {a}, b = {b}\")\n",
    "\n"
   ]
  },
  {
   "cell_type": "code",
   "execution_count": 10,
   "id": "7748fb4c-31e7-48ab-ba11-50755148542b",
   "metadata": {},
   "outputs": [
    {
     "name": "stdout",
     "output_type": "stream",
     "text": [
      "before swaoing a,b\n",
      "5\n",
      "10\n",
      "aftr swaping a ,b\n",
      "10\n",
      "5\n"
     ]
    }
   ],
   "source": [
    "a = 5\n",
    "b = 10\n",
    "print(\"before swaoing a,b\")\n",
    "print(a)\n",
    "print(b)\n",
    "temp=a\n",
    "a=b\n",
    "b=temp\n",
    "print(\"aftr swaping a ,b\")\n",
    "print(a)\n",
    "print(b)\n"
   ]
  },
  {
   "cell_type": "code",
   "execution_count": 6,
   "id": "004d70a2-91bb-4c44-a87d-d2db6569c033",
   "metadata": {},
   "outputs": [
    {
     "name": "stdout",
     "output_type": "stream",
     "text": [
      "before swapping\n",
      "5\n",
      "10\n",
      "after swaping\n",
      "10\n",
      "5\n"
     ]
    }
   ],
   "source": [
    "\n",
    "print(\"before swapping\")\n",
    "a = 5\n",
    "b = 10\n",
    "print(a)\n",
    "print(b)\n",
    "print(\"after swaping\")\n",
    "temp=a\n",
    "a=b\n",
    "b=temp\n",
    "print(a)\n",
    "print(b)"
   ]
  },
  {
   "cell_type": "code",
   "execution_count": 3,
   "id": "fe566b7c-c52c-4171-b287-be447b3123ba",
   "metadata": {},
   "outputs": [
    {
     "name": "stdout",
     "output_type": "stream",
     "text": [
      "(6.0, 9.5)\n"
     ]
    }
   ],
   "source": [
    "def midpoint(x1, y1, x2, y2): \n",
    "    return ((x1 + x2) / 2, (y1 + y2) / 2)\n",
    "\n",
    "print(midpoint(2,4,10,15))"
   ]
  },
  {
   "cell_type": "code",
   "execution_count": 4,
   "id": "c55aebc6-1729-4e18-ad6e-0e43fcd76833",
   "metadata": {},
   "outputs": [
    {
     "name": "stdout",
     "output_type": "stream",
     "text": [
      "(6.0, 9.5)\n"
     ]
    }
   ],
   "source": [
    "def midpoint(x1, y1, x2, y2): \n",
    "    return ((x1 + x2) / 2, (y1 + y2) / 2)\n",
    "\n",
    "print(midpoint(2,4,10,15))"
   ]
  },
  {
   "cell_type": "code",
   "execution_count": 1,
   "id": "788d2554-9a64-4622-ab6c-c886b2662afe",
   "metadata": {},
   "outputs": [
    {
     "name": "stdout",
     "output_type": "stream",
     "text": [
      "my external marks is\n"
     ]
    },
    {
     "name": "stdin",
     "output_type": "stream",
     "text": [
      "enter your java marks is: 78\n",
      "enter your c marks is: 90\n",
      "enter your  r marks is: 87\n",
      "enter your ruby marks is: 90\n",
      "enter your html marks is: 90\n"
     ]
    },
    {
     "name": "stdout",
     "output_type": "stream",
     "text": [
      "after adding total marks is: 435\n",
      "after my persentage is: 87.0\n"
     ]
    }
   ],
   "source": [
    "print(\"my external marks is\")\n",
    "x=int(input(\"enter your java marks is:\"))\n",
    "y=int(input(\"enter your c marks is:\"))\n",
    "z=int(input(\"enter your  r marks is:\"))\n",
    "i=int(input(\"enter your ruby marks is:\"))\n",
    "j=int(input(\"enter your html marks is:\"))\n",
    "add=(x+y+z+i+j)\n",
    "print(\"after adding total marks is:\",add)\n",
    "per=(add/500*100)\n",
    "print(\"after my persentage is:\",per)\n",
    "\n"
   ]
  },
  {
   "cell_type": "code",
   "execution_count": 1,
   "id": "5a777be0-50c6-48d8-a90b-e3262a5d6cbc",
   "metadata": {},
   "outputs": [
    {
     "name": "stdout",
     "output_type": "stream",
     "text": [
      "Subtraction:  -11\n",
      "Multiplication:  350\n",
      "Division:  0.56\n",
      "Floor Division:  0\n",
      "Modulo:  14\n",
      "Power:  44998795805848373114515226624\n"
     ]
    }
   ],
   "source": [
    "a=14\n",
    "b=25\n",
    "# subtraction\n",
    "print ('Subtraction: ', a - b)   \n",
    "\n",
    "# multiplication\n",
    "print ('Multiplication: ', a * b)  \n",
    "\n",
    "# division\n",
    "print ('Division: ', a / b) \n",
    "\n",
    "# floor division\n",
    "print ('Floor Division: ', a // b)\n",
    "\n",
    "# modulo\n",
    "print ('Modulo: ', a % b)  \n",
    "\n",
    "# a to the power b\n",
    "print ('Power: ', a ** b)  \n"
   ]
  },
  {
   "cell_type": "markdown",
   "id": "5cadd6d9-2c79-4c4c-84ae-0afe5f3d9a74",
   "metadata": {},
   "source": [
    "# comparrision operater"
   ]
  },
  {
   "cell_type": "code",
   "execution_count": 2,
   "id": "8b1b698f-9a44-4e92-acc7-62bae0462914",
   "metadata": {},
   "outputs": [
    {
     "name": "stdout",
     "output_type": "stream",
     "text": [
      "a == b = False\n",
      "a != b = True\n",
      "a > b = True\n",
      "a < b = False\n",
      "a >= b = True\n",
      "a <= b = False\n"
     ]
    }
   ],
   "source": [
    " a = 5\n",
    "\n",
    "b = 2\n",
    "\n",
    "# equal to operator\n",
    "print('a == b =', a == b)\n",
    "\n",
    "# not equal to operator\n",
    "print('a != b =', a != b)\n",
    "\n",
    "# greater than operator\n",
    "print('a > b =', a > b)\n",
    "\n",
    "# less than operator\n",
    "print('a < b =', a < b)\n",
    "\n",
    "# greater than or equal to operator\n",
    "print('a >= b =', a >= b)\n",
    "\n",
    "# less than or equal to operator\n",
    "print('a <= b =', a <= b)\n",
    "\n"
   ]
  },
  {
   "cell_type": "code",
   "execution_count": 1,
   "id": "0d4a5230-e2b2-4837-9a39-a176de9497ea",
   "metadata": {},
   "outputs": [
    {
     "name": "stdin",
     "output_type": "stream",
     "text": [
      "numbr: 5\n"
     ]
    },
    {
     "name": "stdout",
     "output_type": "stream",
     "text": [
      "5\n"
     ]
    },
    {
     "name": "stdin",
     "output_type": "stream",
     "text": [
      "string: hello world\n"
     ]
    },
    {
     "name": "stdout",
     "output_type": "stream",
     "text": [
      "hello world\n"
     ]
    }
   ],
   "source": [
    "N=int(input(\"numbr:\"))\n",
    "print(N*)\n",
    "S=str(input(\"string:\"))\n",
    "print(S)"
   ]
  },
  {
   "cell_type": "code",
   "execution_count": 1,
   "id": "45229149-090d-444b-a8be-5877aa109ac5",
   "metadata": {},
   "outputs": [
    {
     "name": "stdout",
     "output_type": "stream",
     "text": [
      "hii machha\n"
     ]
    }
   ],
   "source": [
    "print(\"hii machha\")\n"
   ]
  },
  {
   "cell_type": "code",
   "execution_count": 14,
   "id": "0af0f3aa-fc97-4dc1-b982-ec12c7bdc7b7",
   "metadata": {},
   "outputs": [
    {
     "name": "stdout",
     "output_type": "stream",
     "text": [
      "d\n",
      "hell\n",
      "o world\n",
      "hello w\n",
      "orld\n",
      "ello w\n"
     ]
    }
   ],
   "source": [
    "h=\"hello world\"\n",
    "print(h[-1])\n",
    "print(h[:4])\n",
    "print(h[4:])\n",
    "print(h[:-4])\n",
    "print(h[-4:])\n",
    "print(h[1:-4])"
   ]
  },
  {
   "cell_type": "code",
   "execution_count": 23,
   "id": "6161d74a-8810-4047-a930-7284b3444d86",
   "metadata": {},
   "outputs": [
    {
     "name": "stdout",
     "output_type": "stream",
     "text": [
      "dwl\n",
      "hlowrd\n"
     ]
    }
   ],
   "source": [
    "str=\"hello world\"\n",
    "print(str[::-4])\n",
    "print(str[0:11:2])"
   ]
  },
  {
   "cell_type": "code",
   "execution_count": 26,
   "id": "f160d14b-4873-4f62-9e77-8579063c17d4",
   "metadata": {},
   "outputs": [
    {
     "name": "stdout",
     "output_type": "stream",
     "text": [
      "654\n"
     ]
    }
   ],
   "source": [
    "va='456'\n",
    "print(va[::-1])"
   ]
  },
  {
   "cell_type": "code",
   "execution_count": 8,
   "id": "216a36a2-f6d6-469d-a9b2-013710332421",
   "metadata": {},
   "outputs": [
    {
     "name": "stdout",
     "output_type": "stream",
     "text": [
      "<class 'int'>\n",
      "40\n"
     ]
    }
   ],
   "source": [
    "import re\n",
    "\n",
    "a = \"35fgrfg34\"\n",
    "# Extract only the digits from the string\n",
    "a = int(re.findall(r'\\d+', a)[0])\n",
    "print(type(a))\n",
    "print(a + 5)"
   ]
  },
  {
   "cell_type": "markdown",
   "id": "9db98ee7-a28e-461a-a40d-caca66c8a5e9",
   "metadata": {},
   "source": [
    "#  new begins"
   ]
  },
  {
   "cell_type": "code",
   "execution_count": 9,
   "id": "1b0bec7c-8f5f-4596-9c4b-057dbd748bcf",
   "metadata": {},
   "outputs": [
    {
     "name": "stdout",
     "output_type": "stream",
     "text": [
      "Comp Turn: Snake(s) Water(w) or Gun(g)?\n"
     ]
    },
    {
     "name": "stdin",
     "output_type": "stream",
     "text": [
      "Your Turn: Snake(s) Water(w) or Gun(g)? 4\n"
     ]
    },
    {
     "name": "stdout",
     "output_type": "stream",
     "text": [
      "Computer chose w\n",
      "You chose 4\n",
      "The game is a tie!\n"
     ]
    }
   ],
   "source": [
    "import random\n",
    "\n",
    "# Snake Water Gun or Rock Paper Scissors\n",
    "def gameWin(comp, you):\n",
    "    # If two values are equal, declare a tie!\n",
    "    if comp == you:\n",
    "        return None\n",
    "\n",
    "    # Check for all possibilities when computer chose s\n",
    "    elif comp == 's':\n",
    "        if you=='w':\n",
    "            return False\n",
    "        elif you=='g':\n",
    "            return True\n",
    "    \n",
    "    # Check for all possibilities when computer chose w\n",
    "    elif comp == 'w':\n",
    "        if you=='g':\n",
    "            return False\n",
    "        elif you=='s':\n",
    "            return True\n",
    "    \n",
    "    # Check for all possibilities when computer chose g\n",
    "    elif comp == 'g':\n",
    "        if you=='s':\n",
    "            return False\n",
    "        elif you=='w':\n",
    "            return True\n",
    "\n",
    "print(\"Comp Turn: Snake(s) Water(w) or Gun(g)?\")\n",
    "randNo = random.randint(1, 3) \n",
    "if randNo == 1:\n",
    "    comp = 's'\n",
    "elif randNo == 2:\n",
    "    comp = 'w'\n",
    "elif randNo == 3:\n",
    "    comp = 'g'\n",
    "\n",
    "you = input(\"Your Turn: Snake(s) Water(w) or Gun(g)?\")\n",
    "a = gameWin(comp, you)\n",
    "\n",
    "print(f\"Computer chose {comp}\")\n",
    "print(f\"You chose {you}\")\n",
    "\n",
    "if a == None:\n",
    "    print(\"The game is a tie!\")\n",
    "elif a:\n",
    "    print(\"You Win!\")\n",
    "else:\n",
    "    print(\"You Lose!\")"
   ]
  },
  {
   "cell_type": "code",
   "execution_count": 12,
   "id": "185eed42-0f8d-4c9f-ad9e-4b4af32aaaac",
   "metadata": {},
   "outputs": [
    {
     "name": "stdout",
     "output_type": "stream",
     "text": [
      "hello karthik 7\n"
     ]
    }
   ],
   "source": [
    "print(\"hello karthik\",7)"
   ]
  },
  {
   "cell_type": "markdown",
   "id": "eb72b693-7668-4e85-b6ed-da380ebdf190",
   "metadata": {},
   "source": [
    "#HII ITS NEW \n",
    "print(\"im doing the codes with harry\")"
   ]
  },
  {
   "cell_type": "code",
   "execution_count": 23,
   "id": "53406369-bb32-4246-8a7c-9c15223ee7be",
   "metadata": {},
   "outputs": [
    {
     "data": {
      "text/plain": [
       "'print(\"I TAKE THE CHALLENGE OF 100 DAYS\") '"
      ]
     },
     "execution_count": 23,
     "metadata": {},
     "output_type": "execute_result"
    }
   ],
   "source": [
    "\n",
    "\"\"\"print(\"I TAKE THE CHALLENGE OF 100 DAYS\") \"\"\""
   ]
  },
  {
   "cell_type": "code",
   "execution_count": 5,
   "id": "3b5a57a2-930e-4c52-be2d-9afc2bbb64b4",
   "metadata": {},
   "outputs": [
    {
     "name": "stdout",
     "output_type": "stream",
     "text": [
      "hello world-6-7-8910-end \n",
      "harry\n"
     ]
    }
   ],
   "source": [
    "print(\"hello world\",6,7,8910,sep=\"-\",end=\"-end \"\"\\n\")\n",
    "print(\"harry\")"
   ]
  },
  {
   "cell_type": "code",
   "execution_count": 6,
   "id": "23264e29-bba8-4485-bce6-4a8154bd5fd1",
   "metadata": {},
   "outputs": [
    {
     "name": "stdout",
     "output_type": "stream",
     "text": [
      "allis well\n",
      "False\n",
      "True\n",
      "False\n",
      "False\n"
     ]
    }
   ],
   "source": [
    "x=\"allis well\"\n",
    "print(x)\n",
    "print(x.isalpha())\n",
    "print(x.islower())\n",
    "print(x.isupper())\n",
    "print(x.isdigit())"
   ]
  },
  {
   "cell_type": "code",
   "execution_count": 9,
   "id": "aae35afe-a980-45f6-975a-132d1861c8f3",
   "metadata": {},
   "outputs": [
    {
     "name": "stdout",
     "output_type": "stream",
     "text": [
      "WE ARE DATA SCVIENTIST\n"
     ]
    }
   ],
   "source": [
    "x=\"WE ARE DATA SCVIENTIST\"\n",
    "print(x)"
   ]
  },
  {
   "cell_type": "code",
   "execution_count": 12,
   "id": "fd76f88e-4958-4f65-a487-7cdb1d6125bb",
   "metadata": {},
   "outputs": [
    {
     "name": "stdout",
     "output_type": "stream",
     "text": [
      "hello user\n"
     ]
    }
   ],
   "source": [
    "a=10\n",
    "if a==10:\n",
    "    print(\"hello user\")"
   ]
  },
  {
   "cell_type": "markdown",
   "id": "f32c7bc0-9a7a-4f07-87ac-d1b61896f50b",
   "metadata": {},
   "source": [
    "a=10\n",
    "b=50\n",
    "if b>a:\n",
    "    print(\"b is graeter\")"
   ]
  },
  {
   "cell_type": "code",
   "execution_count": 14,
   "id": "c4586486-e6cd-4175-a704-b56000d609ab",
   "metadata": {},
   "outputs": [
    {
     "name": "stdout",
     "output_type": "stream",
     "text": [
      "it is greater\n"
     ]
    }
   ],
   "source": [
    "n=5\n",
    "if n%2:\n",
    "    print(\"it is greater\")\n",
    "else:\n",
    "    print(\"it is not grater\")"
   ]
  },
  {
   "cell_type": "code",
   "execution_count": 30,
   "id": "f16b3cc5-372d-4f78-b884-a9f3927504ce",
   "metadata": {},
   "outputs": [
    {
     "name": "stdout",
     "output_type": "stream",
     "text": [
      "both condition are true\n"
     ]
    }
   ],
   "source": [
    "a=10\n",
    "b=5\n",
    "c=15\n",
    "if a>b and c>a:\n",
    "    print(\"both condition are true\")"
   ]
  },
  {
   "cell_type": "code",
   "execution_count": 5,
   "id": "520b6be2-a379-4b47-b13f-7e6cf44bab41",
   "metadata": {},
   "outputs": [
    {
     "name": "stdin",
     "output_type": "stream",
     "text": [
      "enter the number 34\n"
     ]
    },
    {
     "ename": "NameError",
     "evalue": "name 'n' is not defined",
     "output_type": "error",
     "traceback": [
      "\u001b[1;31m---------------------------------------------------------------------------\u001b[0m",
      "\u001b[1;31mNameError\u001b[0m                                 Traceback (most recent call last)",
      "Cell \u001b[1;32mIn[5], line 3\u001b[0m\n\u001b[0;32m      1\u001b[0m x\u001b[38;5;241m=\u001b[39m\u001b[38;5;28mint\u001b[39m(\u001b[38;5;28minput\u001b[39m(\u001b[38;5;124m\"\u001b[39m\u001b[38;5;124menter the number\u001b[39m\u001b[38;5;124m\"\u001b[39m))\n\u001b[0;32m      2\u001b[0m \u001b[38;5;28;01mif\u001b[39;00m x \u001b[38;5;241m>\u001b[39m \u001b[38;5;241m0\u001b[39m:\n\u001b[1;32m----> 3\u001b[0m     \u001b[38;5;28mprint\u001b[39m(\u001b[43mn\u001b[49m\u001b[38;5;241m*\u001b[39mN,true)\n\u001b[0;32m      4\u001b[0m \u001b[38;5;28;01melif\u001b[39;00m x \u001b[38;5;241m<\u001b[39m \u001b[38;5;241m0\u001b[39m:\n\u001b[0;32m      5\u001b[0m     \u001b[38;5;28mprint\u001b[39m(n\u001b[38;5;241m*\u001b[39mN\u001b[38;5;241m*\u001b[39mN,true)\n",
      "\u001b[1;31mNameError\u001b[0m: name 'n' is not defined"
     ]
    }
   ],
   "source": [
    "x=int(input(\"enter the number\"))\n",
    "if x > 0:\n",
    "    print(\"n*N\")\n",
    "elif x < 0:\n",
    "    print(\"n*N*N\")\n",
    "\n",
    "else:\n",
    "    print(\"\")\n"
   ]
  },
  {
   "cell_type": "code",
   "execution_count": 26,
   "id": "9d1b2f65-c8f3-4a40-a301-23c0f2de575e",
   "metadata": {},
   "outputs": [
    {
     "name": "stdout",
     "output_type": "stream",
     "text": [
      "is betwwn 15 and 20\n"
     ]
    }
   ],
   "source": [
    "#nested if\n",
    "i=16\n",
    "if i<15:\n",
    "    print(\"is smaler then 15\")\n",
    "else:\n",
    "    if i>20:\n",
    "       print(\"is grater then 20\")\n",
    "    else:\n",
    "       print(\"is betwwn 15 and 20\")"
   ]
  },
  {
   "cell_type": "code",
   "execution_count": 28,
   "id": "a86ca95d-4281-4d1e-863d-89dee54868c9",
   "metadata": {},
   "outputs": [
    {
     "name": "stdout",
     "output_type": "stream",
     "text": [
      "a is smaller\n"
     ]
    }
   ],
   "source": [
    "a=10\n",
    "if a>20:\n",
    "    print(\"a is greater\")\n",
    "else:\n",
    "    print(\"a is smaller\")"
   ]
  },
  {
   "cell_type": "code",
   "execution_count": 1,
   "id": "e6922920-9c34-454f-a655-33d7bf7638bf",
   "metadata": {},
   "outputs": [
    {
     "name": "stdin",
     "output_type": "stream",
     "text": [
      "enter the marks 12\n"
     ]
    },
    {
     "name": "stdout",
     "output_type": "stream",
     "text": [
      "fail\n"
     ]
    }
   ],
   "source": [
    "x=int(input(\"enter the marks\"))\n",
    "if x>60:\n",
    "    print(\"first division\")\n",
    "\n",
    "elif x>=50 and x<=59:\n",
    "    print(\"second division\")\n",
    "\n",
    "elif x>=40 and x<=49:\n",
    "    print(\"third division\")\n",
    "\n",
    "else :\n",
    "    print(\"fail\")\n",
    "\n"
   ]
  },
  {
   "cell_type": "code",
   "execution_count": 2,
   "id": "ab221e73-8b68-4041-831c-b03f696d3550",
   "metadata": {},
   "outputs": [],
   "source": [
    "import math"
   ]
  },
  {
   "cell_type": "code",
   "execution_count": 4,
   "id": "7cf1316e-7709-4617-9add-610042897869",
   "metadata": {},
   "outputs": [
    {
     "name": "stdin",
     "output_type": "stream",
     "text": [
      "enter the number: 6\n"
     ]
    },
    {
     "name": "stdout",
     "output_type": "stream",
     "text": [
      "yes,a is divisble bye 2 and 3\n"
     ]
    }
   ],
   "source": [
    "a=int(input(\"enter the number:\"))\n",
    "if a%2==0 and a%3==0:\n",
    "    print(\"yes,a is divisble bye 2 and 3\")\n",
    "else:\n",
    "    print(\"not divisible\")"
   ]
  },
  {
   "cell_type": "code",
   "execution_count": 10,
   "id": "b4cb4c3d-4694-45a3-8042-4817f23900a7",
   "metadata": {},
   "outputs": [
    {
     "name": "stdin",
     "output_type": "stream",
     "text": [
      "Enter a year:  456\n"
     ]
    },
    {
     "name": "stdout",
     "output_type": "stream",
     "text": [
      "456 is a leap year.\n"
     ]
    }
   ],
   "source": [
    "def is_leap_year(year):\n",
    "    if (year % 4 == 0 and year % 100 != 0) or (year % 400 == 0):\n",
    "        return True\n",
    "    else:\n",
    "        return False\n",
    "\n",
    "# Input from user\n",
    "year = int(input(\"Enter a year: \"))\n",
    "\n",
    "# Check if the year is a leap year\n",
    "if is_leap_year(year):\n",
    "    print(f\"{year} is a leap year.\")\n",
    "else:\n",
    "    print(f\"{year} is not a leap year.\")"
   ]
  },
  {
   "cell_type": "code",
   "execution_count": 20,
   "id": "ecd34908-babc-4ec1-ad14-0a3cc743de78",
   "metadata": {},
   "outputs": [
    {
     "name": "stdin",
     "output_type": "stream",
     "text": [
      "Enter a year:  34\n"
     ]
    },
    {
     "name": "stdout",
     "output_type": "stream",
     "text": [
      "it is not a leap year\n"
     ]
    }
   ],
   "source": [
    "year = int(input(\"Enter a year: \"))\n",
    "if (year%4 == 0 and year%100 != 0 ) or (year %400 ==0):\n",
    "    print(\"it is a leap year\")\n",
    "else:\n",
    "    print(\"it is not a leap year\")"
   ]
  },
  {
   "cell_type": "code",
   "execution_count": 5,
   "id": "5c1297fe-70fd-43f9-b69f-6ec424840d5a",
   "metadata": {},
   "outputs": [
    {
     "ename": "IndentationError",
     "evalue": "unexpected indent (3589635581.py, line 2)",
     "output_type": "error",
     "traceback": [
      "\u001b[1;36m  Cell \u001b[1;32mIn[5], line 2\u001b[1;36m\u001b[0m\n\u001b[1;33m    if x <= 5 :\u001b[0m\n\u001b[1;37m    ^\u001b[0m\n\u001b[1;31mIndentationError\u001b[0m\u001b[1;31m:\u001b[0m unexpected indent\n"
     ]
    }
   ],
   "source": [
    "x = int(input(\"enter a number\"))\n",
    "    if x <= 5 :\n",
    "        print (x * 2)\n",
    "\n",
    "    elif x >= 5 and x <= 10 :\n",
    "\n",
    "        print (10+ (x - 5) ^ * 3)\n",
    "\n",
    "    elif x >= 11 and x < - 15 :\n",
    "\n",
    "        print( 25 + (x - 10) * 4 )\n",
    "\n",
    "    else:\n",
    "\n",
    "\n",
    "        print(x * 15)"
   ]
  },
  {
   "cell_type": "code",
   "execution_count": 34,
   "id": "2ef0cea3-05b2-43ca-9414-3d1b02042c69",
   "metadata": {},
   "outputs": [
    {
     "name": "stdin",
     "output_type": "stream",
     "text": [
      "enter a numbr: 2\n"
     ]
    },
    {
     "name": "stdout",
     "output_type": "stream",
     "text": [
      "not weird\n"
     ]
    }
   ],
   "source": [
    "#odd or even\n",
    "n=int(input(\"enter a numbr:\"))\n",
    "if n>0:\n",
    "    if n%2 != 0:\n",
    "        print(\"weird\")\n",
    "    elif n%2==0 and (n>=2 and n<=5):\n",
    "        print(\"not weird\")\n",
    "    elif n%2==0 and (n>=6 and n<=20):\n",
    "        print(\"weird\")\n",
    "    elif n%2==0 and n>20:\n",
    "        print(\"not weird\")\n",
    "    else:\n",
    "        print(\"NA\")\n",
    "\n",
    "\n",
    "\n",
    "            "
   ]
  },
  {
   "cell_type": "code",
   "execution_count": 35,
   "id": "0fc6ee63-5752-4825-ab67-67e25948fa97",
   "metadata": {},
   "outputs": [
    {
     "name": "stdin",
     "output_type": "stream",
     "text": [
      "Enter a number:  12\n"
     ]
    },
    {
     "name": "stdout",
     "output_type": "stream",
     "text": [
      "12 is not a trendy number.\n"
     ]
    }
   ],
   "source": [
    "def is_trendy(number):\n",
    "    if 100 <= number <= 999:\n",
    "        num_str = str(number)\n",
    "        middle_digit = int(num_str[1])  \n",
    "        \n",
    "        if middle_digit % 3 == 0:\n",
    "            return True\n",
    "        else:\n",
    "            return False\n",
    "    else:\n",
    "        return False\n",
    "\n",
    "\n",
    "number = int(input(\"Enter a number: \"))\n",
    "\n",
    "\n",
    "if is_trendy(number):\n",
    "    print(f\"{number} is a trendy number.\")\n",
    "else:\n",
    "    print(f\"{number} is not a trendy number.\")"
   ]
  },
  {
   "cell_type": "code",
   "execution_count": 39,
   "id": "da05e912-0d78-4fff-85a7-bc770c427024",
   "metadata": {},
   "outputs": [
    {
     "name": "stdin",
     "output_type": "stream",
     "text": [
      "Enter a Number 333\n"
     ]
    },
    {
     "name": "stdout",
     "output_type": "stream",
     "text": [
      "3\n",
      "Its a Trendy Number\n"
     ]
    }
   ],
   "source": [
    "x=int(input(\"Enter a Number\"))\n",
    "if x>=100 and x<=999:\n",
    "    number=str(x)\n",
    "    mid=int(number[1])\n",
    "    print(mid)\n",
    "\n",
    "    if mid % 3==0:\n",
    "       print(\"Its a Trendy Number\")\n",
    "    else:\n",
    "        print(\"Its not a Trendy Number\")"
   ]
  },
  {
   "cell_type": "code",
   "execution_count": 40,
   "id": "600c26fb-2fe8-493d-9a91-155df8ac00fc",
   "metadata": {},
   "outputs": [
    {
     "name": "stdin",
     "output_type": "stream",
     "text": [
      "enter your days: 4\n"
     ]
    },
    {
     "name": "stdout",
     "output_type": "stream",
     "text": [
      "na\n"
     ]
    }
   ],
   "source": [
    "n= int(input(\"enter your days:\"))\n",
    "\n",
    "if (n<=2):\n",
    "    print(n*2)\n",
    "elif (n>=6 and n<10):\n",
    "    print(10+(n-5)*3)\n",
    "elif (n>=11 and n<=15):\n",
    "    print(25+(n-10)*4)\n",
    "elif(n>16):\n",
    "    print(45+(n-15)*5)\n",
    "else:\n",
    "    print(\"na\")"
   ]
  },
  {
   "cell_type": "code",
   "execution_count": 41,
   "id": "31569742-18ec-47ab-bb12-75fa3a7c6420",
   "metadata": {},
   "outputs": [
    {
     "name": "stdin",
     "output_type": "stream",
     "text": [
      "Enter a Number 77\n"
     ]
    }
   ],
   "source": [
    "x=int(input(\"Enter a Number\"))\n",
    "if x>=100 and x<=999:\n",
    "    number=str(x)\n",
    "    mid=int(number[1])\n",
    "    print(mid)\n",
    "\n",
    "    if mid % 3==0:\n",
    "       print(\"Its a Trendy Number\")\n",
    "    else:\n",
    "        print(\"Its not a Trendy Number\")"
   ]
  },
  {
   "cell_type": "code",
   "execution_count": 44,
   "id": "41b4f10b-2c15-4d74-aedf-f392f7ea991e",
   "metadata": {},
   "outputs": [
    {
     "name": "stdin",
     "output_type": "stream",
     "text": [
      "enter a numbers 2\n",
      "enter a numbers 4\n",
      "enter a numbers 3\n"
     ]
    },
    {
     "name": "stdout",
     "output_type": "stream",
     "text": [
      "n2 is grater\n"
     ]
    }
   ],
   "source": [
    "n1=int(input(\"enter a numbers\"))\n",
    "n2=int(input(\"enter a numbers\"))\n",
    "n3=int(input(\"enter a numbers\"))\n",
    "if n1>n2 and n1>n3:\n",
    "      print(\"n1 is grater\")\n",
    "elif n2>n1 and n2>n3:\n",
    "       print(\"n2 is grater\")\n",
    "else:\n",
    "      print(\"invalid\")\n",
    "   \n",
    "   \n",
    "     \n",
    "      \n",
    "      "
   ]
  },
  {
   "cell_type": "code",
   "execution_count": 46,
   "id": "2a9ae349-aa47-4bd7-8f6c-7f2728e65909",
   "metadata": {},
   "outputs": [
    {
     "name": "stdin",
     "output_type": "stream",
     "text": [
      "enter a numbers 3\n",
      "enter a numbers 1\n",
      "enter a numbers 2\n"
     ]
    },
    {
     "name": "stdout",
     "output_type": "stream",
     "text": [
      "n2 is smlr\n"
     ]
    }
   ],
   "source": [
    "n1=int(input(\"enter a numbers\"))\n",
    "n2=int(input(\"enter a numbers\"))\n",
    "n3=int(input(\"enter a numbers\"))\n",
    "if n1<n2 and n1<n3:\n",
    "      print(\"n1 is smlr\")\n",
    "elif n2<n1 and n2<n3:\n",
    "       print(\"n2 is smlr\")\n",
    "elif n3<n2 and n3<n1:\n",
    "       print(\"n3 is smlr\")\n",
    "else:\n",
    "      print(\"invalid\")\n",
    "   "
   ]
  },
  {
   "cell_type": "code",
   "execution_count": 2,
   "id": "0fcbf5a5-90de-4c5e-b392-470e376dc232",
   "metadata": {},
   "outputs": [
    {
     "name": "stdin",
     "output_type": "stream",
     "text": [
      " 2\n",
      " 2.\n"
     ]
    },
    {
     "name": "stdout",
     "output_type": "stream",
     "text": [
      "3.0\n"
     ]
    }
   ],
   "source": [
    "n_items = int(input())\n",
    "single_items_hitems = float(input())\n",
    "\n",
    "if n_items == 1:\n",
    "    r_time = single_items_hitems\n",
    "elif n_items == 2:\n",
    "    r_time = single_items_hitems * 1.5\n",
    "elif n_items == 3:\n",
    "    r_time = single_items_hitems * 2.5\n",
    "else:\n",
    "    print(\"number of items is more:\")\n",
    "\n",
    "print(r_time)\n",
    "      "
   ]
  },
  {
   "cell_type": "code",
   "execution_count": 3,
   "id": "06109092-e800-4fa0-9d16-8f1804d25f7c",
   "metadata": {},
   "outputs": [
    {
     "name": "stdout",
     "output_type": "stream",
     "text": [
      "The first 5 natural numbers are:\n",
      "1\n",
      "2\n",
      "3\n",
      "4\n",
      "5\n"
     ]
    }
   ],
   "source": [
    "# program to display first 5 natural numbers:\n",
    "def display_natural_numbers(n):\n",
    "    for i in range(1, n + 1):\n",
    "        print(i)\n",
    "\n",
    "def main():\n",
    "    n = 5  # Number of natural numbers to display\n",
    "    print(\"The first\", n, \"natural numbers are:\")\n",
    "    display_natural_numbers(n)\n",
    "\n",
    "if __name__ == \"__main__\":\n",
    "    main()\n"
   ]
  },
  {
   "cell_type": "code",
   "execution_count": 4,
   "id": "7823b4b0-c6cc-4c32-9660-e9b32aa78d71",
   "metadata": {},
   "outputs": [
    {
     "name": "stdout",
     "output_type": "stream",
     "text": [
      "1\n",
      "3\n",
      "5\n",
      "7\n",
      "9\n",
      "11\n",
      "13\n",
      "15\n",
      "17\n",
      "19\n",
      "21\n",
      "23\n",
      "25\n",
      "27\n",
      "29\n",
      "31\n",
      "33\n",
      "35\n",
      "37\n",
      "39\n",
      "41\n",
      "43\n",
      "45\n",
      "47\n",
      "49\n"
     ]
    }
   ],
   "source": [
    "# generate an first 25 odd numbers starts from zero \n",
    "for i in range(50):\n",
    "    if i%2 !=0:\n",
    "        print(i)\n"
   ]
  },
  {
   "cell_type": "code",
   "execution_count": 9,
   "id": "bd9d1c76-c41a-4307-8700-ed7810ae1e71",
   "metadata": {},
   "outputs": [
    {
     "name": "stdin",
     "output_type": "stream",
     "text": [
      "enter customer age: 16\n",
      "enter show time: 10.15\n"
     ]
    },
    {
     "name": "stdout",
     "output_type": "stream",
     "text": [
      "price of the movie ticket is $8.00\n"
     ]
    }
   ],
   "source": [
    "#write a program that determines the price of a movie ticket \n",
    "\n",
    "x=int(input(\"enter customer age:\"))\n",
    "y=float(input(\"enter show time:\"))\n",
    "\n",
    "if x > 13:\n",
    "    if y == 10.15 or y == 13.30:\n",
    "        print(\"price of the movie ticket is $8.00\")\n",
    "    elif y == 18.00 or y == 22.00:\n",
    "        print(\"price of the movie ticket is $5.00\")\n",
    "else:\n",
    "    if y == 10.15 or y == 13.30:\n",
    "        print(\"price of the movie ticket is $4.00\")\n",
    "    elif y == 18.00 or y== 22.00:\n",
    "        print(\"price of the movie ticket is $2.00\")\n",
    "        \n",
    "    "
   ]
  },
  {
   "cell_type": "code",
   "execution_count": 3,
   "id": "1fa01b27-7df8-4b5f-97ab-9b84d3975566",
   "metadata": {},
   "outputs": [
    {
     "name": "stdin",
     "output_type": "stream",
     "text": [
      "enter the birth year: 62\n",
      "enter the current year: 00\n"
     ]
    },
    {
     "name": "stdout",
     "output_type": "stream",
     "text": [
      "Your current age is: 38 years\n"
     ]
    }
   ],
   "source": [
    "birth_year=int(input(\"enter the birth year:\"))\n",
    "current_year=int(input(\"enter the current year:\"))\n",
    "\n",
    "if current_year < birth_year:\n",
    "    age = (100 + current_year) - birth_year\n",
    "else:\n",
    "    age = current_year - birth_year\n",
    "\n",
    "print(f\"Your current age is: {age} years\")"
   ]
  },
  {
   "cell_type": "code",
   "execution_count": 14,
   "id": "a2fb571a-7f22-4d07-89d7-25b3184fcdc4",
   "metadata": {},
   "outputs": [
    {
     "name": "stdout",
     "output_type": "stream",
     "text": [
      "1\n",
      "22\n",
      "333\n",
      "4444\n",
      "55555\n"
     ]
    }
   ],
   "source": [
    "for i in range(1,6):\n",
    "    count = 0\n",
    "    while count < i:\n",
    "        print(i, end='')\n",
    "        count += 1\n",
    "    print()\n",
    "   "
   ]
  },
  {
   "cell_type": "code",
   "execution_count": 6,
   "id": "3bfe1da7-eea6-4013-be40-77976b84170d",
   "metadata": {},
   "outputs": [
    {
     "name": "stdout",
     "output_type": "stream",
     "text": [
      "* \n",
      "* * \n",
      "* * * \n",
      "* * * * \n",
      "* * * * * \n"
     ]
    }
   ],
   "source": [
    "for i in range(0,5):\n",
    "    for j in range(0,i+1):\n",
    "        print(\"*\", end=\" \")\n",
    "    print()"
   ]
  },
  {
   "cell_type": "code",
   "execution_count": 15,
   "id": "5b23fe9c-4507-46f8-b7a1-6ccd2d1a772d",
   "metadata": {},
   "outputs": [
    {
     "name": "stdout",
     "output_type": "stream",
     "text": [
      "1 \n",
      "2 2 \n",
      "3 3 3 \n",
      "4 4 4 4 \n",
      "5 5 5 5 5 \n"
     ]
    }
   ],
   "source": [
    "for i in range(1,6):\n",
    "    for j in range(1,i+1):\n",
    "        print(i, end=\" \")\n",
    "    print()"
   ]
  },
  {
   "cell_type": "code",
   "execution_count": 3,
   "id": "97ebbee7-2922-4dbf-8196-64dc347ecdb3",
   "metadata": {},
   "outputs": [
    {
     "name": "stdin",
     "output_type": "stream",
     "text": [
      "enter your number: 10\n"
     ]
    },
    {
     "name": "stdout",
     "output_type": "stream",
     "text": [
      "55\n"
     ]
    }
   ],
   "source": [
    "# write a program for sum of n numbers using foor loop:\n",
    "num=int(input(\"enter your number:\"))\n",
    "sum = 0\n",
    "for i in range(1,num + 1):\n",
    "    sum = i + sum\n",
    "\n",
    "print(sum)"
   ]
  },
  {
   "cell_type": "code",
   "execution_count": 8,
   "id": "09e9f278-58e8-468a-a52e-3565940cc87e",
   "metadata": {},
   "outputs": [
    {
     "name": "stdin",
     "output_type": "stream",
     "text": [
      "enter your number: 3\n"
     ]
    },
    {
     "name": "stdout",
     "output_type": "stream",
     "text": [
      "2.0\n"
     ]
    }
   ],
   "source": [
    "num=int(input(\"enter your number:\"))\n",
    "sum = 0\n",
    "for i in range(1,num + 1):\n",
    "    sum = i + sum\n",
    "\n",
    "print(sum/num)"
   ]
  },
  {
   "cell_type": "code",
   "execution_count": null,
   "id": "a97d019a-9e4e-483f-b06a-b6bcbd2b65f9",
   "metadata": {},
   "outputs": [],
   "source": []
  }
 ],
 "metadata": {
  "kernelspec": {
   "display_name": "Python 3 (ipykernel)",
   "language": "python",
   "name": "python3"
  },
  "language_info": {
   "codemirror_mode": {
    "name": "ipython",
    "version": 3
   },
   "file_extension": ".py",
   "mimetype": "text/x-python",
   "name": "python",
   "nbconvert_exporter": "python",
   "pygments_lexer": "ipython3",
   "version": "3.10.4"
  }
 },
 "nbformat": 4,
 "nbformat_minor": 5
}
