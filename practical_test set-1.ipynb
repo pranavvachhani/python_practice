{
 "cells": [
  {
   "cell_type": "code",
   "execution_count": 1,
   "id": "6d336f08-9706-4b78-ae9d-17e6233998b0",
   "metadata": {},
   "outputs": [
    {
     "name": "stdin",
     "output_type": "stream",
     "text": [
      "Enter a number:  16\n"
     ]
    },
    {
     "name": "stdout",
     "output_type": "stream",
     "text": [
      "16 is even.\n"
     ]
    }
   ],
   "source": [
    "number = int(input(\"Enter a number: \"))\n",
    "\n",
    "\n",
    "if number % 2 == 0:\n",
    "    print(f\"{number} is even.\")\n",
    "else:\n",
    "    print(f\"{number} is odd.\")\n"
   ]
  },
  {
   "cell_type": "code",
   "execution_count": 2,
   "id": "9f0d2324-a2eb-4897-9ff0-b9584d7ce0d2",
   "metadata": {},
   "outputs": [
    {
     "name": "stdin",
     "output_type": "stream",
     "text": [
      "Enter the first number:  20\n",
      "Enter the second number:  10\n",
      "Enter the third number:  0\n"
     ]
    },
    {
     "name": "stdout",
     "output_type": "stream",
     "text": [
      "The maximum number is: 20\n"
     ]
    }
   ],
   "source": [
    "def find_maximum(a, b, c):\n",
    "    return max(a, b, c)\n",
    "\n",
    "\n",
    "num1 = int(input(\"Enter the first number: \"))\n",
    "num2 = int(input(\"Enter the second number: \"))\n",
    "num3 = int(input(\"Enter the third number: \"))\n",
    "\n",
    "\n",
    "max_num = find_maximum(num1, num2, num3)\n",
    "\n",
    "print(\"The maximum number is:\", max_num)\n"
   ]
  },
  {
   "cell_type": "code",
   "execution_count": 4,
   "id": "8290757d-8f50-4c6c-9a71-fbf774e0ab4a",
   "metadata": {},
   "outputs": [
    {
     "name": "stdout",
     "output_type": "stream",
     "text": [
      "{25: ['Pranav', 'Abbas'], 30: ['Akbar', 'Haidar']}\n"
     ]
    }
   ],
   "source": [
    "names_ages = {\n",
    "    'Pranav': 25,\n",
    "    'Akbar': 30,\n",
    "    'Abbas': 25,\n",
    "    'Haidar': 30,\n",
    "    \n",
    "}\n",
    "\n",
    "\n",
    "age_to_names = {}\n",
    "\n",
    "\n",
    "for name, age in names_ages.items():\n",
    "    if age not in age_to_names:  \n",
    "        age_to_names[age] = [name]  \n",
    "    else:\n",
    "        age_to_names[age].append(name) \n",
    "\n",
    "print(age_to_names)\n"
   ]
  },
  {
   "cell_type": "code",
   "execution_count": null,
   "id": "7919ebcf-2de1-426c-a138-f7c85c171a27",
   "metadata": {},
   "outputs": [],
   "source": []
  }
 ],
 "metadata": {
  "kernelspec": {
   "display_name": "Python 3 (ipykernel)",
   "language": "python",
   "name": "python3"
  },
  "language_info": {
   "codemirror_mode": {
    "name": "ipython",
    "version": 3
   },
   "file_extension": ".py",
   "mimetype": "text/x-python",
   "name": "python",
   "nbconvert_exporter": "python",
   "pygments_lexer": "ipython3",
   "version": "3.12.6"
  }
 },
 "nbformat": 4,
 "nbformat_minor": 5
}
