{
 "cells": [
  {
   "cell_type": "code",
   "execution_count": 1,
   "id": "c82b97d4-3c03-479c-b513-e03d334d7aec",
   "metadata": {},
   "outputs": [
    {
     "name": "stdout",
     "output_type": "stream",
     "text": [
      "inside the function local total: 30\n",
      "outside the fumction global total: 0\n"
     ]
    }
   ],
   "source": [
    "total = 0;\n",
    "def sum(arg1,arg2):\n",
    "    total = arg1 + arg2;\n",
    "    print(\"inside the function local total:\",total)\n",
    "    return total;\n",
    "sum (10,20);\n",
    "print(\"outside the fumction global total:\",total)"
   ]
  },
  {
   "cell_type": "code",
   "execution_count": null,
   "id": "0a5d7fff-cb6a-4bb8-9a54-879a8a060fbd",
   "metadata": {},
   "outputs": [],
   "source": []
  }
 ],
 "metadata": {
  "kernelspec": {
   "display_name": "Python 3 (ipykernel)",
   "language": "python",
   "name": "python3"
  },
  "language_info": {
   "codemirror_mode": {
    "name": "ipython",
    "version": 3
   },
   "file_extension": ".py",
   "mimetype": "text/x-python",
   "name": "python",
   "nbconvert_exporter": "python",
   "pygments_lexer": "ipython3",
   "version": "3.10.4"
  }
 },
 "nbformat": 4,
 "nbformat_minor": 5
}
