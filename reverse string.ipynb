{
 "cells": [
  {
   "cell_type": "code",
   "execution_count": 2,
   "id": "9b872620-8554-4d81-9fc7-c2d5e4730430",
   "metadata": {},
   "outputs": [
    {
     "name": "stdin",
     "output_type": "stream",
     "text": [
      " pranav\n"
     ]
    },
    {
     "name": "stdout",
     "output_type": "stream",
     "text": [
      "vanarp\n",
      "IT IS NOT AN PALINDROME: \n"
     ]
    }
   ],
   "source": [
    "string = input()\n",
    "rev_text = \"\"\n",
    "\n",
    "for i in string:\n",
    "    rev_text = i + rev_text\n",
    "\n",
    "print(rev_text)\n",
    "if string == rev_text:\n",
    "    print(\"IT IS AN PALINDROME:\")\n",
    "else:\n",
    "    print(\"IT IS NOT AN PALINDROME: \")\n",
    "\n"
   ]
  },
  {
   "cell_type": "code",
   "execution_count": null,
   "id": "ada7fc8d-adc2-409c-ae98-6614141abdf5",
   "metadata": {},
   "outputs": [],
   "source": []
  }
 ],
 "metadata": {
  "kernelspec": {
   "display_name": "Python 3 (ipykernel)",
   "language": "python",
   "name": "python3"
  },
  "language_info": {
   "codemirror_mode": {
    "name": "ipython",
    "version": 3
   },
   "file_extension": ".py",
   "mimetype": "text/x-python",
   "name": "python",
   "nbconvert_exporter": "python",
   "pygments_lexer": "ipython3",
   "version": "3.10.4"
  }
 },
 "nbformat": 4,
 "nbformat_minor": 5
}
