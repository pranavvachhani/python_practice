{
 "cells": [
  {
   "cell_type": "code",
   "execution_count": 1,
   "id": "bf496eb0-157d-4410-abf8-effe31d1fad7",
   "metadata": {},
   "outputs": [],
   "source": [
    "value = {}"
   ]
  },
  {
   "cell_type": "code",
   "execution_count": 2,
   "id": "6cdb3e0f-7622-4c21-9d3f-673170c3b32a",
   "metadata": {},
   "outputs": [
    {
     "data": {
      "text/plain": [
       "dict"
      ]
     },
     "execution_count": 2,
     "metadata": {},
     "output_type": "execute_result"
    }
   ],
   "source": [
    "type(value)"
   ]
  },
  {
   "cell_type": "code",
   "execution_count": 5,
   "id": "36610095-ab4b-4552-92dd-544382886435",
   "metadata": {},
   "outputs": [],
   "source": [
    "value=set()"
   ]
  },
  {
   "cell_type": "code",
   "execution_count": 6,
   "id": "543e3718-1a31-487a-bd03-b083e244ce11",
   "metadata": {},
   "outputs": [
    {
     "data": {
      "text/plain": [
       "set"
      ]
     },
     "execution_count": 6,
     "metadata": {},
     "output_type": "execute_result"
    }
   ],
   "source": [
    "type(value)"
   ]
  },
  {
   "cell_type": "code",
   "execution_count": 7,
   "id": "74ebb96c-397a-4ebf-9c54-69455445eac6",
   "metadata": {},
   "outputs": [],
   "source": [
    "values = {1,3,5,6,4,7,8,2,9}"
   ]
  },
  {
   "cell_type": "code",
   "execution_count": 8,
   "id": "710da448-b658-49b2-9604-40d6c34e4add",
   "metadata": {},
   "outputs": [
    {
     "data": {
      "text/plain": [
       "{1, 2, 3, 4, 5, 6, 7, 8, 9}"
      ]
     },
     "execution_count": 8,
     "metadata": {},
     "output_type": "execute_result"
    }
   ],
   "source": [
    "values"
   ]
  },
  {
   "cell_type": "code",
   "execution_count": 9,
   "id": "3016a50b-3215-4600-b54b-0d9ac802d714",
   "metadata": {},
   "outputs": [
    {
     "name": "stdout",
     "output_type": "stream",
     "text": [
      "set()\n"
     ]
    }
   ],
   "source": [
    "set1 = set()\n",
    "print(set1)"
   ]
  },
  {
   "cell_type": "code",
   "execution_count": 10,
   "id": "d58ac9bd-5b0e-4683-b5c7-eb0f44025a99",
   "metadata": {},
   "outputs": [],
   "source": [
    "value_set = {2,'PYTHON','a',5,9.4}"
   ]
  },
  {
   "cell_type": "code",
   "execution_count": 12,
   "id": "715904d2-74d7-4cb5-8e1e-eb2c9d8a8515",
   "metadata": {},
   "outputs": [
    {
     "data": {
      "text/plain": [
       "{2, 5, 9.4, 'PYTHON', 'a'}"
      ]
     },
     "execution_count": 12,
     "metadata": {},
     "output_type": "execute_result"
    }
   ],
   "source": [
    "value_set"
   ]
  },
  {
   "cell_type": "code",
   "execution_count": 13,
   "id": "8f026d06-2622-44c0-a3f7-040606424edc",
   "metadata": {},
   "outputs": [
    {
     "ename": "TypeError",
     "evalue": "'set' object is not subscriptable",
     "output_type": "error",
     "traceback": [
      "\u001b[1;31m---------------------------------------------------------------------------\u001b[0m",
      "\u001b[1;31mTypeError\u001b[0m                                 Traceback (most recent call last)",
      "Cell \u001b[1;32mIn[13], line 1\u001b[0m\n\u001b[1;32m----> 1\u001b[0m \u001b[43mvalue_set\u001b[49m\u001b[43m[\u001b[49m\u001b[38;5;241;43m0\u001b[39;49m\u001b[43m]\u001b[49m\n",
      "\u001b[1;31mTypeError\u001b[0m: 'set' object is not subscriptable"
     ]
    }
   ],
   "source": [
    "value_set[0]"
   ]
  },
  {
   "cell_type": "code",
   "execution_count": 14,
   "id": "257040cf-871f-4d15-be37-9641b03928c9",
   "metadata": {},
   "outputs": [],
   "source": [
    "value_set.add(\"apple\")"
   ]
  },
  {
   "cell_type": "code",
   "execution_count": 15,
   "id": "e95a5dbc-ee9e-49c0-9a0d-32154f6c8efe",
   "metadata": {},
   "outputs": [
    {
     "data": {
      "text/plain": [
       "{2, 5, 9.4, 'PYTHON', 'a', 'apple'}"
      ]
     },
     "execution_count": 15,
     "metadata": {},
     "output_type": "execute_result"
    }
   ],
   "source": [
    "value_set"
   ]
  },
  {
   "cell_type": "code",
   "execution_count": 16,
   "id": "89858f23-040e-4548-a23b-e66ff6cc64ca",
   "metadata": {},
   "outputs": [],
   "source": [
    "value_set.remove('PYTHON')"
   ]
  },
  {
   "cell_type": "code",
   "execution_count": 17,
   "id": "f403e2d5-8e01-41be-a06a-517e30d7abb3",
   "metadata": {},
   "outputs": [
    {
     "data": {
      "text/plain": [
       "{2, 5, 9.4, 'a', 'apple'}"
      ]
     },
     "execution_count": 17,
     "metadata": {},
     "output_type": "execute_result"
    }
   ],
   "source": [
    "value_set"
   ]
  },
  {
   "cell_type": "code",
   "execution_count": 18,
   "id": "d993ee8d-f830-4fad-bcbb-8b5e54bbca1f",
   "metadata": {},
   "outputs": [
    {
     "ename": "KeyError",
     "evalue": "6",
     "output_type": "error",
     "traceback": [
      "\u001b[1;31m---------------------------------------------------------------------------\u001b[0m",
      "\u001b[1;31mKeyError\u001b[0m                                  Traceback (most recent call last)",
      "Cell \u001b[1;32mIn[18], line 1\u001b[0m\n\u001b[1;32m----> 1\u001b[0m \u001b[43mvalue_set\u001b[49m\u001b[38;5;241;43m.\u001b[39;49m\u001b[43mremove\u001b[49m\u001b[43m(\u001b[49m\u001b[38;5;241;43m6\u001b[39;49m\u001b[43m)\u001b[49m\n",
      "\u001b[1;31mKeyError\u001b[0m: 6"
     ]
    }
   ],
   "source": [
    "value_set.remove(6)"
   ]
  },
  {
   "cell_type": "code",
   "execution_count": 23,
   "id": "960793d9-6bbd-44ad-80df-accd5d680d2e",
   "metadata": {},
   "outputs": [],
   "source": [
    "value_set.discard(9.4)"
   ]
  },
  {
   "cell_type": "code",
   "execution_count": 24,
   "id": "3df64eee-2b54-48ce-8602-f9e0a56cf100",
   "metadata": {},
   "outputs": [],
   "source": [
    "value_set.clear()"
   ]
  },
  {
   "cell_type": "code",
   "execution_count": 3,
   "id": "496dd215-4620-4601-88db-f59efa2ff90a",
   "metadata": {},
   "outputs": [
    {
     "name": "stdin",
     "output_type": "stream",
     "text": [
      " 5\n",
      " 1\n",
      " 2\n",
      " 3\n",
      " 4\n",
      " 5\n"
     ]
    },
    {
     "name": "stdout",
     "output_type": "stream",
     "text": [
      "{1, 2, 3, 4, 5}\n"
     ]
    }
   ],
   "source": [
    "value_set=set()\n",
    "n = int(input())\n",
    "for i in range(n):\n",
    "    value_set.add(int(input()))\n",
    "print(value_set)"
   ]
  },
  {
   "cell_type": "code",
   "execution_count": 5,
   "id": "803299cb-7496-4100-90fc-9d50ebd8ce77",
   "metadata": {},
   "outputs": [
    {
     "name": "stdin",
     "output_type": "stream",
     "text": [
      " 10\n"
     ]
    },
    {
     "name": "stdout",
     "output_type": "stream",
     "text": [
      "element is present:\n"
     ]
    }
   ],
   "source": [
    "value1 = {6,12,26,10}\n",
    "\n",
    "x=int(input())\n",
    "\n",
    "if x in value1:\n",
    "    print(\"element is present:\")\n",
    "else:\n",
    "    print(\"element is not present:\")"
   ]
  },
  {
   "cell_type": "code",
   "execution_count": 6,
   "id": "a0f900d6-b1e3-4e24-9672-0e9fc79ea1b4",
   "metadata": {},
   "outputs": [
    {
     "name": "stdout",
     "output_type": "stream",
     "text": [
      "{'may', 'feb', 'mar', 'dec', 'jan', 'nov', 'oct'}\n"
     ]
    }
   ],
   "source": [
    "month1_set = {\"jan\",\"feb\",\"dec\",\"mar\"}\n",
    "month2_set = {\"may\",\"jan\",\"oct\",\"nov\"}\n",
    "\n",
    "month3_set = month1_set.union(month2_set)\n",
    "print(month3_set)\n"
   ]
  },
  {
   "cell_type": "code",
   "execution_count": 8,
   "id": "2aec50e1-951b-45bf-8f7e-13eabf19d0af",
   "metadata": {},
   "outputs": [
    {
     "name": "stdout",
     "output_type": "stream",
     "text": [
      "union : {1, 2, 3, 4, 5, 7, 8, 9}\n",
      "intersection:  {2, 3}\n",
      "difference: {1, 4, 5}\n"
     ]
    }
   ],
   "source": [
    "set1 = {1,2,3,4,5}\n",
    "set2 = {2,3,7,8,9}\n",
    "\n",
    "set3=set1.union(set2)\n",
    "print(\"union :\",set3)\n",
    "set4 = set1.intersection(set2)\n",
    "print(\"intersection: \",set4)\n",
    "set5 = set1.difference(set2)\n",
    "print(\"difference:\",set5)"
   ]
  },
  {
   "cell_type": "code",
   "execution_count": 1,
   "id": "70326d50-afda-4960-8d59-8627d1d6e447",
   "metadata": {},
   "outputs": [
    {
     "name": "stdout",
     "output_type": "stream",
     "text": [
      "True\n",
      "False\n",
      "False\n"
     ]
    }
   ],
   "source": [
    "set1 = {\"jan\",\"feb\",\"dec\",\"mar\"}\n",
    "set2 = {\"jan\", \"feb\"}\n",
    "print(set1>set2)\n",
    "print(set1<set2)\n",
    "print(set1==set2)"
   ]
  },
  {
   "cell_type": "code",
   "execution_count": 2,
   "id": "8f62b4f0-e08f-4fff-941e-f7a5fc9af04c",
   "metadata": {},
   "outputs": [
    {
     "name": "stdout",
     "output_type": "stream",
     "text": [
      "{0, 1, 4, 9, 16}\n"
     ]
    }
   ],
   "source": [
    "squares = {x ** 2 for x in range (5)}\n",
    "print(squares)"
   ]
  },
  {
   "cell_type": "code",
   "execution_count": 4,
   "id": "84667716-5797-4567-948c-8a8040b82eeb",
   "metadata": {},
   "outputs": [
    {
     "name": "stdout",
     "output_type": "stream",
     "text": [
      "{1, 4, 9, 16, 25}\n"
     ]
    }
   ],
   "source": [
    "numbers = [1,2,3,4,5]\n",
    "squared_numbers = {x**2 for x in numbers}\n",
    "print(squared_numbers)"
   ]
  },
  {
   "cell_type": "code",
   "execution_count": 9,
   "id": "c0613698-6b35-4df2-bb17-57970c2ae389",
   "metadata": {},
   "outputs": [
    {
     "name": "stdout",
     "output_type": "stream",
     "text": [
      "{2, 4}\n"
     ]
    }
   ],
   "source": [
    "numbers = [1,2,3,4,5]\n",
    "even_numbers = {x for x in numbers if x % 2 == 0}\n",
    "print(even_numbers)"
   ]
  },
  {
   "cell_type": "code",
   "execution_count": 13,
   "id": "f89492ba-115d-48c0-b12f-e0cc4502c003",
   "metadata": {},
   "outputs": [
    {
     "name": "stdout",
     "output_type": "stream",
     "text": [
      "{'cherry', 'banana', 'apple'}\n"
     ]
    }
   ],
   "source": [
    "words = ['apple','banana','cherry','lyn']\n",
    "vowels = {'a','e','i','o','u'}\n",
    "vowel_words = {word for word in words if any(letter in vowels for letter in word)}\n",
    "print(vowel_words)"
   ]
  },
  {
   "cell_type": "code",
   "execution_count": 17,
   "id": "c27e1a7c-1e87-4cd1-8401-2311247f209b",
   "metadata": {},
   "outputs": [
    {
     "name": "stdout",
     "output_type": "stream",
     "text": [
      "{1, 4, 36, 9, 16, 25}\n"
     ]
    }
   ],
   "source": [
    "duplicates = [1,2,3,3,4,5,1,6]\n",
    "unique_squares = {x ** 2 for x in duplicates}\n",
    "print(unique_squares)"
   ]
  },
  {
   "cell_type": "code",
   "execution_count": 19,
   "id": "4cd032e5-1ca1-40d5-8b65-ac205f899d0f",
   "metadata": {},
   "outputs": [
    {
     "name": "stdout",
     "output_type": "stream",
     "text": [
      "{'W', 'D', 'H', 'O', 'E', 'R', 'L'}\n"
     ]
    }
   ],
   "source": [
    "text = \"hello world\"\n",
    "uppercase_letters = {char.upper() for char in text if char.isalpha()}\n",
    "print(uppercase_letters)"
   ]
  },
  {
   "cell_type": "code",
   "execution_count": null,
   "id": "f8b2a64c-c2f0-4e58-9143-570e97b3e0aa",
   "metadata": {},
   "outputs": [],
   "source": []
  }
 ],
 "metadata": {
  "kernelspec": {
   "display_name": "Python 3 (ipykernel)",
   "language": "python",
   "name": "python3"
  },
  "language_info": {
   "codemirror_mode": {
    "name": "ipython",
    "version": 3
   },
   "file_extension": ".py",
   "mimetype": "text/x-python",
   "name": "python",
   "nbconvert_exporter": "python",
   "pygments_lexer": "ipython3",
   "version": "3.10.4"
  }
 },
 "nbformat": 4,
 "nbformat_minor": 5
}
