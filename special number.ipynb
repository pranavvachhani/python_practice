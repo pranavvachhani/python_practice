{
 "cells": [
  {
   "cell_type": "code",
   "execution_count": 36,
   "id": "33e2a7fc-6847-4bde-bf8b-b9beac9f3615",
   "metadata": {},
   "outputs": [
    {
     "name": "stdin",
     "output_type": "stream",
     "text": [
      "enter the value of x: 19\n"
     ]
    },
    {
     "name": "stdout",
     "output_type": "stream",
     "text": [
      "special number:)\n"
     ]
    }
   ],
   "source": [
    "x = int(input(\"enter the value of x:\"))\n",
    "#y = int(input(\"enter the value of y:\"))\n",
    "\n",
    "def special_number(x):\n",
    "    y = str(x)\n",
    "    y.split()\n",
    "    a = int(y[0]) + int(y[1])\n",
    "    b = int(y[0]) * int(y[1])\n",
    "    c = a + b\n",
    "    if c == x:\n",
    "        print(\"special number:)\")\n",
    "    else:\n",
    "        print(\"not the special number:)\")\n",
    "\n",
    "special_number(x)\n",
    "\n",
    "\n",
    "    "
   ]
  },
  {
   "cell_type": "code",
   "execution_count": null,
   "id": "b1221d86-18c4-4acc-ace7-dfb9ad39c836",
   "metadata": {},
   "outputs": [],
   "source": []
  }
 ],
 "metadata": {
  "kernelspec": {
   "display_name": "Python 3 (ipykernel)",
   "language": "python",
   "name": "python3"
  },
  "language_info": {
   "codemirror_mode": {
    "name": "ipython",
    "version": 3
   },
   "file_extension": ".py",
   "mimetype": "text/x-python",
   "name": "python",
   "nbconvert_exporter": "python",
   "pygments_lexer": "ipython3",
   "version": "3.10.4"
  }
 },
 "nbformat": 4,
 "nbformat_minor": 5
}
