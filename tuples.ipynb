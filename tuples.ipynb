{
 "cells": [
  {
   "cell_type": "code",
   "execution_count": 2,
   "id": "db445277-7e70-4448-8158-3ab5bbcc52f3",
   "metadata": {},
   "outputs": [
    {
     "name": "stdout",
     "output_type": "stream",
     "text": [
      "()\n"
     ]
    }
   ],
   "source": [
    "empty_tuple = ()\n",
    "print(empty_tuple)"
   ]
  },
  {
   "cell_type": "code",
   "execution_count": 4,
   "id": "5a944c1c-67e0-4263-856f-0434fd9b4b35",
   "metadata": {},
   "outputs": [
    {
     "name": "stdout",
     "output_type": "stream",
     "text": [
      "(26, 45, 32)\n"
     ]
    }
   ],
   "source": [
    "value_tuple = 26, 45, 32\n",
    "print(value_tuple)"
   ]
  },
  {
   "cell_type": "code",
   "execution_count": 7,
   "id": "2500ba89-259d-4060-945c-9aa1ed20b8fc",
   "metadata": {},
   "outputs": [
    {
     "name": "stdout",
     "output_type": "stream",
     "text": [
      "(16, 4, 'pranav')\n"
     ]
    }
   ],
   "source": [
    "value_tuple = (16, 4, 'pranav')\n",
    "print(value_tuple)"
   ]
  },
  {
   "cell_type": "code",
   "execution_count": 8,
   "id": "98f4b360-02c7-4eae-9773-0e33b2f89035",
   "metadata": {},
   "outputs": [
    {
     "name": "stdout",
     "output_type": "stream",
     "text": [
      "pranav\n"
     ]
    }
   ],
   "source": [
    "tuple = ('pranav')\n",
    "print(tuple)"
   ]
  },
  {
   "cell_type": "code",
   "execution_count": 9,
   "id": "1a340d01-5537-4449-a660-4e6381722a83",
   "metadata": {},
   "outputs": [
    {
     "name": "stdout",
     "output_type": "stream",
     "text": [
      "('hello',)\n"
     ]
    }
   ],
   "source": [
    "tuple = ('hello',)\n",
    "print(tuple)"
   ]
  },
  {
   "cell_type": "code",
   "execution_count": 10,
   "id": "92d71a17-9a9b-4e94-8c37-fc7b5475c8b1",
   "metadata": {},
   "outputs": [
    {
     "ename": "TypeError",
     "evalue": "'tuple' object is not callable",
     "output_type": "error",
     "traceback": [
      "\u001b[1;31m---------------------------------------------------------------------------\u001b[0m",
      "\u001b[1;31mTypeError\u001b[0m                                 Traceback (most recent call last)",
      "Cell \u001b[1;32mIn[10], line 1\u001b[0m\n\u001b[1;32m----> 1\u001b[0m \u001b[43mvalue_tuple\u001b[49m\u001b[43m(\u001b[49m\u001b[38;5;241;43m26\u001b[39;49m\u001b[43m,\u001b[49m\u001b[38;5;241;43m43\u001b[39;49m\u001b[43m,\u001b[49m\u001b[38;5;124;43m'\u001b[39;49m\u001b[38;5;124;43mhello\u001b[39;49m\u001b[38;5;124;43m'\u001b[39;49m\u001b[43m)\u001b[49m\n\u001b[0;32m      2\u001b[0m value_tuple[\u001b[38;5;241m1\u001b[39m] \u001b[38;5;241m=\u001b[39m \u001b[38;5;241m7\u001b[39m\n\u001b[0;32m      3\u001b[0m \u001b[38;5;28mprint\u001b[39m(value_tuple)\n",
      "\u001b[1;31mTypeError\u001b[0m: 'tuple' object is not callable"
     ]
    }
   ],
   "source": [
    "value_tuple(26,43,'hello')\n",
    "value_tuple[1] = 7\n",
    "print(value_tuple)"
   ]
  },
  {
   "cell_type": "code",
   "execution_count": 11,
   "id": "c0431cc0-af89-454a-a43b-c08163f0170d",
   "metadata": {},
   "outputs": [
    {
     "name": "stdout",
     "output_type": "stream",
     "text": [
      "(26, 43, 'hello', 7, 4.3, 'python')\n"
     ]
    }
   ],
   "source": [
    "value1_tuple=(26,43,'hello')\n",
    "value2_tuple=7,4.3,\"python\"\n",
    "\n",
    "print(value1_tuple+value2_tuple)"
   ]
  },
  {
   "cell_type": "code",
   "execution_count": 12,
   "id": "85acd49a-042f-4475-afce-0801e5851906",
   "metadata": {},
   "outputs": [
    {
     "name": "stdout",
     "output_type": "stream",
     "text": [
      "((26, 43, 'hello'), (7, 4.3, 'python'))\n"
     ]
    }
   ],
   "source": [
    "value1_tuple=(26,43,'hello')\n",
    "value2_tuple=7,4.3,\"python\"\n",
    "value3_tuple=value1_tuple,value2_tuple\n",
    "print(value3_tuple)"
   ]
  },
  {
   "cell_type": "code",
   "execution_count": 14,
   "id": "e03f661e-49c5-4c98-87c8-d1c0988982d5",
   "metadata": {},
   "outputs": [
    {
     "name": "stdout",
     "output_type": "stream",
     "text": [
      "(26, 43, 'hello', 26, 43, 'hello')\n"
     ]
    }
   ],
   "source": [
    "value_tuple=(26,43,'hello') * 2\n",
    "print(value_tuple)"
   ]
  },
  {
   "cell_type": "code",
   "execution_count": 15,
   "id": "b08a387a-3955-4ce9-a350-376482034ac5",
   "metadata": {},
   "outputs": [
    {
     "name": "stdout",
     "output_type": "stream",
     "text": [
      "(26, 45, 'hello', 7.5)\n"
     ]
    }
   ],
   "source": [
    "value_tuple = (26,45,'hello',7.5)\n",
    "print(value_tuple)"
   ]
  },
  {
   "cell_type": "code",
   "execution_count": 16,
   "id": "e5e0cb3c-fd97-410f-9ea5-d7b2fe86cbfe",
   "metadata": {},
   "outputs": [
    {
     "name": "stdout",
     "output_type": "stream",
     "text": [
      "('hello', 7.5)\n"
     ]
    }
   ],
   "source": [
    "value_tuple = (26,45,'hello',7.5)\n",
    "print(value_tuple[2:])"
   ]
  },
  {
   "cell_type": "code",
   "execution_count": 18,
   "id": "d837870a-16ce-4473-aea3-8c7ce2ca971d",
   "metadata": {},
   "outputs": [
    {
     "name": "stdout",
     "output_type": "stream",
     "text": [
      "(26, 45, 'hello')\n"
     ]
    }
   ],
   "source": [
    "value_tuple = (26,45,'hello',7.5)\n",
    "print(value_tuple[:3])"
   ]
  },
  {
   "cell_type": "code",
   "execution_count": 27,
   "id": "9b648741-4267-4e27-a7f1-8c389cb2d4ff",
   "metadata": {},
   "outputs": [
    {
     "name": "stdout",
     "output_type": "stream",
     "text": [
      "(45,)\n"
     ]
    }
   ],
   "source": [
    "value_tuple = (26,45,'hello',7.5,'z',5,6.9)\n",
    "print(value_tuple[1:3:2])"
   ]
  },
  {
   "cell_type": "code",
   "execution_count": 28,
   "id": "1555bebc-7924-4ef7-a1e5-2fbbf68bad3d",
   "metadata": {},
   "outputs": [
    {
     "ename": "NameError",
     "evalue": "name 'value_tuple' is not defined",
     "output_type": "error",
     "traceback": [
      "\u001b[1;31m---------------------------------------------------------------------------\u001b[0m",
      "\u001b[1;31mNameError\u001b[0m                                 Traceback (most recent call last)",
      "Cell \u001b[1;32mIn[28], line 3\u001b[0m\n\u001b[0;32m      1\u001b[0m value_tuple \u001b[38;5;241m=\u001b[39m (\u001b[38;5;241m26\u001b[39m,\u001b[38;5;241m45\u001b[39m,\u001b[38;5;124m'\u001b[39m\u001b[38;5;124mhello\u001b[39m\u001b[38;5;124m'\u001b[39m,\u001b[38;5;241m7.5\u001b[39m,\u001b[38;5;124m'\u001b[39m\u001b[38;5;124mz\u001b[39m\u001b[38;5;124m'\u001b[39m,\u001b[38;5;241m5\u001b[39m,\u001b[38;5;241m6.9\u001b[39m)\n\u001b[0;32m      2\u001b[0m \u001b[38;5;28;01mdel\u001b[39;00m(value_tuple)\n\u001b[1;32m----> 3\u001b[0m \u001b[38;5;28mprint\u001b[39m(\u001b[43mvalue_tuple\u001b[49m)\n",
      "\u001b[1;31mNameError\u001b[0m: name 'value_tuple' is not defined"
     ]
    }
   ],
   "source": [
    "value_tuple = (26,45,'hello',7.5,'z',5,6.9)\n",
    "del(value_tuple)\n",
    "print(value_tuple)"
   ]
  },
  {
   "cell_type": "code",
   "execution_count": null,
   "id": "ff1e0d39-0c33-44a2-980a-667935be451a",
   "metadata": {},
   "outputs": [],
   "source": []
  }
 ],
 "metadata": {
  "kernelspec": {
   "display_name": "Python 3 (ipykernel)",
   "language": "python",
   "name": "python3"
  },
  "language_info": {
   "codemirror_mode": {
    "name": "ipython",
    "version": 3
   },
   "file_extension": ".py",
   "mimetype": "text/x-python",
   "name": "python",
   "nbconvert_exporter": "python",
   "pygments_lexer": "ipython3",
   "version": "3.10.4"
  }
 },
 "nbformat": 4,
 "nbformat_minor": 5
}
