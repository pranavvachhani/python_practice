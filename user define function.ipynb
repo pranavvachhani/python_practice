{
 "cells": [
  {
   "cell_type": "code",
   "execution_count": 5,
   "id": "a3be5c47-ea45-4e60-b6f4-732a0e237a17",
   "metadata": {},
   "outputs": [
    {
     "name": "stdin",
     "output_type": "stream",
     "text": [
      "enter your number: 5\n",
      "enter your number: 5\n",
      "enter your number: 5\n"
     ]
    },
    {
     "name": "stdout",
     "output_type": "stream",
     "text": [
      "(15.0, 125.0)\n"
     ]
    }
   ],
   "source": [
    "x = int(input(\"enter your number:\"))\n",
    "y = float(input(\"enter your number:\"))\n",
    "z = int(input(\"enter your number:\"))\n",
    "\n",
    "def sumproduct(x,y,z):\n",
    "    a = x + y + z\n",
    "    b = x * y * z\n",
    "    return a,b\n",
    "\n",
    "print(sumproduct(x,y,z))\n",
    "    "
   ]
  },
  {
   "cell_type": "code",
   "execution_count": null,
   "id": "989512a8-393c-4730-8b2d-816dfb23c162",
   "metadata": {},
   "outputs": [],
   "source": []
  }
 ],
 "metadata": {
  "kernelspec": {
   "display_name": "Python 3 (ipykernel)",
   "language": "python",
   "name": "python3"
  },
  "language_info": {
   "codemirror_mode": {
    "name": "ipython",
    "version": 3
   },
   "file_extension": ".py",
   "mimetype": "text/x-python",
   "name": "python",
   "nbconvert_exporter": "python",
   "pygments_lexer": "ipython3",
   "version": "3.10.4"
  }
 },
 "nbformat": 4,
 "nbformat_minor": 5
}
